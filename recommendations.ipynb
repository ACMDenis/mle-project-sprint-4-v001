{
 "cells": [
  {
   "cell_type": "markdown",
   "id": "f4095ae4-7294-4b28-853e-88d235002c97",
   "metadata": {},
   "source": [
    "# Инициализация"
   ]
  },
  {
   "cell_type": "markdown",
   "id": "2f2318d2-9df8-4911-915e-15b725c44f8a",
   "metadata": {},
   "source": [
    "Загружаем библиотеки необходимые для выполнения кода ноутбука."
   ]
  },
  {
   "cell_type": "code",
   "execution_count": 9,
   "id": "662d04e7-1b0b-4e4a-9ddf-4526d7fef119",
   "metadata": {},
   "outputs": [],
   "source": [
    "import pandas as pd\n",
    "import boto3\n",
    "from io import BytesIO\n",
    "import pandas as pd\n",
    "import os\n"
   ]
  },
  {
   "cell_type": "markdown",
   "id": "bf80fbc5-b660-4fac-8fbb-a5cae77313b3",
   "metadata": {},
   "source": [
    "# === ЭТАП 1 ==="
   ]
  },
  {
   "cell_type": "markdown",
   "id": "5263a8b3-fe99-4204-8a2e-105182792c11",
   "metadata": {},
   "source": [
    "# Загрузка первичных данных"
   ]
  },
  {
   "cell_type": "markdown",
   "id": "1b54a6a5-1656-4e3c-99d1-49dc39451d33",
   "metadata": {},
   "source": [
    "Загружаем первичные данные из файлов:\n",
    "- tracks.parquet\n",
    "- catalog_names.parquet\n",
    "- interactions.parquet"
   ]
  },
  {
   "cell_type": "code",
   "execution_count": 10,
   "id": "5d4b8961-3f35-4e58-9d6b-3e2dbd2c4224",
   "metadata": {},
   "outputs": [],
   "source": [
    "\n",
    "\n",
    "# Загрузка данных\n",
    "tracks = pd.read_parquet('tracks.parquet')\n",
    "catalog_names = pd.read_parquet('catalog_names.parquet')\n",
    "interactions = pd.read_parquet('interactions.parquet')"
   ]
  },
  {
   "cell_type": "code",
   "execution_count": null,
   "id": "70f7bdfe-175c-45c1-a2e9-d99f0f33be2e",
   "metadata": {},
   "outputs": [],
   "source": []
  },
  {
   "cell_type": "markdown",
   "id": "e8f2a1f7-a05f-4f39-af90-5f4018aa6f9d",
   "metadata": {},
   "source": [
    "# Обзор данных"
   ]
  },
  {
   "cell_type": "markdown",
   "id": "46a85307-896c-4fac-9fcf-f0dffa90889e",
   "metadata": {},
   "source": [
    "Проверяем данные, есть ли с ними явные проблемы."
   ]
  },
  {
   "cell_type": "code",
   "execution_count": 11,
   "id": "c9f8f17e-9b56-4f5a-a463-f694a993effb",
   "metadata": {},
   "outputs": [
    {
     "name": "stdout",
     "output_type": "stream",
     "text": [
      "<class 'pandas.core.frame.DataFrame'>\n",
      "RangeIndex: 1000000 entries, 0 to 999999\n",
      "Data columns (total 4 columns):\n",
      " #   Column    Non-Null Count    Dtype \n",
      "---  ------    --------------    ----- \n",
      " 0   track_id  1000000 non-null  int64 \n",
      " 1   albums    1000000 non-null  object\n",
      " 2   artists   1000000 non-null  object\n",
      " 3   genres    1000000 non-null  object\n",
      "dtypes: int64(1), object(3)\n",
      "memory usage: 30.5+ MB\n",
      "None\n",
      "track_id    0\n",
      "albums      0\n",
      "artists     0\n",
      "genres      0\n",
      "dtype: int64\n",
      "True\n"
     ]
    }
   ],
   "source": [
    "print(tracks.info())\n",
    "print(tracks.isnull().sum())\n",
    "print(tracks['track_id'].nunique() == len(tracks))"
   ]
  },
  {
   "cell_type": "code",
   "execution_count": 12,
   "id": "efd2e2eb-3bec-4ce1-87ac-232bab8bc0d0",
   "metadata": {},
   "outputs": [
    {
     "name": "stdout",
     "output_type": "stream",
     "text": [
      "<class 'pandas.core.frame.DataFrame'>\n",
      "RangeIndex: 1812471 entries, 0 to 1812470\n",
      "Data columns (total 3 columns):\n",
      " #   Column  Dtype \n",
      "---  ------  ----- \n",
      " 0   id      int64 \n",
      " 1   type    object\n",
      " 2   name    object\n",
      "dtypes: int64(1), object(2)\n",
      "memory usage: 41.5+ MB\n",
      "None\n",
      "id      0\n",
      "type    0\n",
      "name    0\n",
      "dtype: int64\n",
      "type\n",
      "album      658724\n",
      "artist     153581\n",
      "genre         166\n",
      "track     1000000\n",
      "Name: id, dtype: int64\n"
     ]
    }
   ],
   "source": [
    "print(catalog_names.info())\n",
    "print(catalog_names.isnull().sum())\n",
    "print(catalog_names.groupby('type')['id'].nunique())"
   ]
  },
  {
   "cell_type": "code",
   "execution_count": 13,
   "id": "b6af58d0",
   "metadata": {},
   "outputs": [
    {
     "name": "stdout",
     "output_type": "stream",
     "text": [
      "<class 'pandas.core.frame.DataFrame'>\n",
      "Index: 222629898 entries, 0 to 291\n",
      "Data columns (total 4 columns):\n",
      " #   Column      Dtype         \n",
      "---  ------      -----         \n",
      " 0   user_id     int32         \n",
      " 1   track_id    int32         \n",
      " 2   track_seq   int16         \n",
      " 3   started_at  datetime64[ns]\n",
      "dtypes: datetime64[ns](1), int16(1), int32(2)\n",
      "memory usage: 5.4 GB\n",
      "None\n",
      "user_id       0\n",
      "track_id      0\n",
      "track_seq     0\n",
      "started_at    0\n",
      "dtype: int64\n",
      "0\n"
     ]
    }
   ],
   "source": [
    "print(interactions.info())\n",
    "print(interactions.isnull().sum())\n",
    "print(interactions.duplicated(subset=['user_id', 'track_id']).sum())"
   ]
  },
  {
   "cell_type": "markdown",
   "id": "318b573a-9e2d-4808-95db-60cfb8bbdb73",
   "metadata": {
    "editable": true,
    "slideshow": {
     "slide_type": ""
    },
    "tags": []
   },
   "source": [
    "# Выводы"
   ]
  },
  {
   "cell_type": "markdown",
   "id": "caa96e12-36a8-4401-8f11-98627a49ae9d",
   "metadata": {},
   "source": [
    "Приведём выводы по первому знакомству с данными:\n",
    "- есть ли с данными явные проблемы,\n",
    "- какие корректирующие действия (в целом) были предприняты."
   ]
  },
  {
   "cell_type": "code",
   "execution_count": null,
   "id": "f58cd010-c2fa-475f-b7e9-767965cd4f55",
   "metadata": {},
   "outputs": [],
   "source": []
  },
  {
   "cell_type": "code",
   "execution_count": null,
   "id": "9eb65c5c-3c2a-412a-ab7e-30ec9da54fea",
   "metadata": {},
   "outputs": [],
   "source": []
  },
  {
   "cell_type": "markdown",
   "id": "7bc3296b-eba6-4333-a78d-b9304aa87e3d",
   "metadata": {},
   "source": [
    "# === ЭТАП 2 ==="
   ]
  },
  {
   "cell_type": "markdown",
   "id": "68e73960-fd38-4e15-8db0-9a25c35dfd25",
   "metadata": {},
   "source": [
    "# EDA"
   ]
  },
  {
   "cell_type": "markdown",
   "id": "a30e823e-8e0f-4a76-a02e-8d1ba8bf0f8a",
   "metadata": {},
   "source": [
    "Распределение количества прослушанных треков."
   ]
  },
  {
   "cell_type": "code",
   "execution_count": 14,
   "id": "9bf5eaba-35f7-4da7-be59-9ab4a34b2423",
   "metadata": {},
   "outputs": [
    {
     "name": "stdout",
     "output_type": "stream",
     "text": [
      "Распределение количества прослушанных треков:\n",
      "count    1.373221e+06\n",
      "mean     1.621224e+02\n",
      "std      3.512846e+02\n",
      "min      1.000000e+00\n",
      "25%      2.300000e+01\n",
      "50%      5.500000e+01\n",
      "75%      1.540000e+02\n",
      "90%      3.890000e+02\n",
      "95%      6.500000e+02\n",
      "99%      1.576000e+03\n",
      "max      1.663700e+04\n",
      "Name: tracks_played, dtype: float64\n"
     ]
    }
   ],
   "source": [
    "# Группируем по пользователям и считаем количество прослушиваний\n",
    "user_plays = interactions.groupby('user_id').size().reset_index(name='tracks_played')\n",
    "distribution = user_plays['tracks_played'].describe(percentiles=[.25, .5, .75, .9, .95, .99])\n",
    "print(\"Распределение количества прослушанных треков:\")\n",
    "print(distribution)"
   ]
  },
  {
   "cell_type": "markdown",
   "id": "d765519a-18dd-4d30-9e29-cc2d84cacd79",
   "metadata": {},
   "source": [
    "Наиболее популярные треки"
   ]
  },
  {
   "cell_type": "code",
   "execution_count": 15,
   "id": "aecaf630-fde0-4860-b84a-42c933a9606e",
   "metadata": {},
   "outputs": [
    {
     "name": "stdout",
     "output_type": "stream",
     "text": [
      "\n",
      "Топ-10 популярных треков:\n",
      "        track_id   plays\n",
      "9098       53404  111062\n",
      "483876  33311009  106921\n",
      "26665     178529  101924\n",
      "512157  35505245   99490\n",
      "829320  65851540   86670\n",
      "368072  24692821   86246\n",
      "475289  32947997   85886\n",
      "696106  51241318   85244\n",
      "90461     795836   85042\n",
      "647237  45499814   84748\n"
     ]
    }
   ],
   "source": [
    "# Считаем количество прослушиваний для каждого трека\n",
    "track_popularity = interactions.groupby('track_id').size().reset_index(name='plays')\n",
    "top_tracks = track_popularity.sort_values('plays', ascending=False).head(10)\n",
    "print(\"\\nТоп-10 популярных треков:\")\n",
    "print(top_tracks)"
   ]
  },
  {
   "cell_type": "markdown",
   "id": "b1c32a5a-d3be-4f96-8dd9-f7860951020c",
   "metadata": {},
   "source": [
    "Наиболее популярные жанры"
   ]
  },
  {
   "cell_type": "code",
   "execution_count": 16,
   "id": "beb66d79",
   "metadata": {},
   "outputs": [],
   "source": [
    "\n",
    "track_genres = tracks.set_index('track_id')['genres'].to_dict()\n",
    "\n"
   ]
  },
  {
   "cell_type": "code",
   "execution_count": 17,
   "id": "d9d536da",
   "metadata": {},
   "outputs": [],
   "source": [
    "\n",
    "track_plays = interactions['track_id'].value_counts().reset_index()\n",
    "track_plays.columns = ['track_id', 'plays']"
   ]
  },
  {
   "cell_type": "code",
   "execution_count": 18,
   "id": "95dbfa6a",
   "metadata": {},
   "outputs": [],
   "source": [
    "from collections import defaultdict \n",
    "\n",
    "genre_plays = defaultdict(int)"
   ]
  },
  {
   "cell_type": "code",
   "execution_count": 19,
   "id": "f17dc7d9",
   "metadata": {},
   "outputs": [],
   "source": [
    "\n",
    "for track_id, plays in track_plays.itertuples(index=False):\n",
    "    genres = track_genres.get(track_id, [])\n",
    "    for genre_id in genres:\n",
    "        genre_plays[genre_id] += plays"
   ]
  },
  {
   "cell_type": "code",
   "execution_count": 20,
   "id": "bc7a6f56",
   "metadata": {},
   "outputs": [],
   "source": [
    "\n",
    "genre_popularity = (\n",
    "    pd.DataFrame(list(genre_plays.items()), columns=['genre_id', 'plays'])\n",
    "    .sort_values('plays', ascending=False)\n",
    "    .head(10)\n",
    ")"
   ]
  },
  {
   "cell_type": "code",
   "execution_count": 21,
   "id": "a1f1edd4",
   "metadata": {},
   "outputs": [
    {
     "name": "stdout",
     "output_type": "stream",
     "text": [
      "Топ-10 популярных жанров:\n",
      "     genre_name     plays\n",
      "7           pop  55578312\n",
      "6           rap  37799821\n",
      "2       allrock  31092013\n",
      "8        ruspop  26626241\n",
      "5        rusrap  25303695\n",
      "14  electronics  20120981\n",
      "11        dance  16291557\n",
      "19      rusrock  13166147\n",
      "1          rock  12772644\n",
      "4         metal  12437375\n"
     ]
    }
   ],
   "source": [
    "\n",
    "genre_names = (\n",
    "    catalog_names[catalog_names['type'] == 'genre']\n",
    "    .set_index('id')['name']\n",
    "    .to_dict()\n",
    ")\n",
    "\n",
    "genre_popularity['genre_name'] = genre_popularity['genre_id'].map(genre_names)\n",
    "\n",
    "print(\"Топ-10 популярных жанров:\")\n",
    "print(genre_popularity[['genre_name', 'plays']])"
   ]
  },
  {
   "cell_type": "markdown",
   "id": "15254e66-e80e-473b-ba24-abebea5ccac7",
   "metadata": {},
   "source": [
    "Треки, которые никто не прослушал"
   ]
  },
  {
   "cell_type": "code",
   "execution_count": 22,
   "id": "50bc50c6-2d83-4c7e-97fa-3e7627978438",
   "metadata": {},
   "outputs": [
    {
     "name": "stdout",
     "output_type": "stream",
     "text": [
      "\n",
      "Треки без прослушиваний:\n",
      "Empty DataFrame\n",
      "Columns: [track_id]\n",
      "Index: []\n"
     ]
    }
   ],
   "source": [
    "# Находим треки из каталога, отсутствующие в прослушиваниях\n",
    "unplayed_tracks = tracks[~tracks['track_id'].isin(interactions['track_id'])][['track_id']]\n",
    "print(\"\\nТреки без прослушиваний:\")\n",
    "print(unplayed_tracks)"
   ]
  },
  {
   "cell_type": "markdown",
   "id": "0d850a07-ef1e-462f-891a-1cf89f2e24ef",
   "metadata": {},
   "source": [
    "# Преобразование данных"
   ]
  },
  {
   "cell_type": "markdown",
   "id": "fabcf8d2-1192-4df5-b20b-fbb84689f57a",
   "metadata": {},
   "source": [
    "Преобразуем данные в формат, более пригодный для дальнейшего использования в расчётах рекомендаций."
   ]
  },
  {
   "cell_type": "code",
   "execution_count": 23,
   "id": "a425556a-9382-45ca-a04e-f1981a522126",
   "metadata": {},
   "outputs": [
    {
     "name": "stdout",
     "output_type": "stream",
     "text": [
      "   track_id        track_name                  album_id   \n",
      "0        26  Complimentary Me  [3, 3, 2490753, 2490753]  \\\n",
      "1        38       Momma's Boy  [3, 3, 2490753, 2490753]   \n",
      "2       135           Atticus        [12, 214, 2490809]   \n",
      "\n",
      "                                          album_name         artist_id   \n",
      "0  [Taller Children, Taller Children, Taller Chil...  [16, 16, 16, 16]  \\\n",
      "1  [Taller Children, Taller Children, Taller Chil...  [16, 16, 16, 16]   \n",
      "2  [Wild Young Hearts, Wild Young Hearts, Wild Yo...      [84, 84, 84]   \n",
      "\n",
      "                                         artist_name          genre_id   \n",
      "0  [Elizabeth & the Catapult, Elizabeth & the Cat...  [11, 21, 11, 21]  \\\n",
      "1  [Elizabeth & the Catapult, Elizabeth & the Cat...  [11, 21, 11, 21]   \n",
      "2                  [Noisettes, Noisettes, Noisettes]      [11, 11, 11]   \n",
      "\n",
      "               genre_name  \n",
      "0  [pop, folk, pop, folk]  \n",
      "1  [pop, folk, pop, folk]  \n",
      "2         [pop, pop, pop]  \n"
     ]
    }
   ],
   "source": [
    "# Извлечение названий треков\n",
    "track_names = catalog_names[catalog_names['type'] == 'track'][['id', 'name']]\n",
    "track_names = track_names.rename(columns={'id': 'track_id', 'name': 'track_name'})\n",
    "\n",
    "# Извлечение названий альбомов\n",
    "album_names = catalog_names[catalog_names['type'] == 'album'][['id', 'name']]\n",
    "album_names = album_names.rename(columns={'id': 'album_id', 'name': 'album_name'})\n",
    "\n",
    "# Извлечение названий артистов\n",
    "artist_names = catalog_names[catalog_names['type'] == 'artist'][['id', 'name']]\n",
    "artist_names = artist_names.rename(columns={'id': 'artist_id', 'name': 'artist_name'})\n",
    "\n",
    "# Извлечение названий жанров\n",
    "genre_names = catalog_names[catalog_names['type'] == 'genre'][['id', 'name']]\n",
    "genre_names = genre_names.rename(columns={'id': 'genre_id', 'name': 'genre_name'})\n",
    "\n",
    "# Объединение данных\n",
    "items = (\n",
    "    tracks\n",
    "    # Добавление названий треков\n",
    "    .merge(track_names, on='track_id', how='left')\n",
    "    \n",
    "    # Развертывание списков альбомов\n",
    "    .explode('albums')\n",
    "    .rename(columns={'albums': 'album_id'})\n",
    "    # Добавление названий альбомов\n",
    "    .merge(album_names, on='album_id', how='left')\n",
    "    \n",
    "    # Развертывание списков артистов\n",
    "    .explode('artists')\n",
    "    .rename(columns={'artists': 'artist_id'})\n",
    "    # Добавление названий артистов\n",
    "    .merge(artist_names, on='artist_id', how='left')\n",
    "    \n",
    "    # Развертывание списков жанров\n",
    "    .explode('genres')\n",
    "    .rename(columns={'genres': 'genre_id'})\n",
    "    # Добавление названий жанров\n",
    "    .merge(genre_names, on='genre_id', how='left')\n",
    "    \n",
    "    # Группировка в списки\n",
    "    .groupby(['track_id', 'track_name']).agg({\n",
    "        'album_id': list,\n",
    "        'album_name': list,\n",
    "        'artist_id': list,\n",
    "        'artist_name': list,\n",
    "        'genre_id': list,\n",
    "        'genre_name': list\n",
    "    }).reset_index()\n",
    ")\n",
    "\n",
    "# Проверка результата\n",
    "print(items.head(3))"
   ]
  },
  {
   "cell_type": "markdown",
   "id": "4d1be653-eed8-4fa0-a9c5-3811b080d71d",
   "metadata": {},
   "source": [
    "# Сохранение данных"
   ]
  },
  {
   "cell_type": "markdown",
   "id": "36f1314a-3af3-4faf-a0b1-3045173d1500",
   "metadata": {},
   "source": [
    "Сохраним данные в двух файлах в персональном S3-бакете по пути `recsys/data/`:\n",
    "- `items.parquet` — все данные о музыкальных треках,\n",
    "- `events.parquet` — все данные о взаимодействиях."
   ]
  },
  {
   "cell_type": "code",
   "execution_count": 24,
   "id": "9f77af17-7705-4fae-9aad-db579b39faad",
   "metadata": {},
   "outputs": [],
   "source": [
    "events = interactions.copy()"
   ]
  },
  {
   "cell_type": "code",
   "execution_count": 25,
   "id": "ca5e6bd8",
   "metadata": {},
   "outputs": [
    {
     "name": "stdout",
     "output_type": "stream",
     "text": [
      "The autoreload extension is already loaded. To reload it, use:\n",
      "  %reload_ext autoreload\n"
     ]
    }
   ],
   "source": [
    "%load_ext autoreload\n",
    "%autoreload 2\n",
    "from dotenv import load_dotenv, find_dotenv\n",
    "import os"
   ]
  },
  {
   "cell_type": "code",
   "execution_count": 26,
   "id": "58a7ac0b",
   "metadata": {},
   "outputs": [
    {
     "data": {
      "text/plain": [
       "True"
      ]
     },
     "execution_count": 26,
     "metadata": {},
     "output_type": "execute_result"
    }
   ],
   "source": [
    "# подгружаем .env\n",
    "load_dotenv()"
   ]
  },
  {
   "cell_type": "code",
   "execution_count": 27,
   "id": "1010d896",
   "metadata": {},
   "outputs": [],
   "source": [
    "s3_bucket = os.environ.get('S3_BUCKET_NAME')\n",
    "s3_access_key = os.environ.get('AWS_ACCESS_KEY_ID')\n",
    "s3_secret_access_key = os.environ.get('AWS_SECRET_ACCESS_KEY')"
   ]
  },
  {
   "cell_type": "code",
   "execution_count": 28,
   "id": "95292f64",
   "metadata": {},
   "outputs": [
    {
     "name": "stdout",
     "output_type": "stream",
     "text": [
      "YCAJE3Nlz8iDILW5VTYM1ihQB\n"
     ]
    }
   ],
   "source": [
    "print(s3_access_key)"
   ]
  },
  {
   "cell_type": "code",
   "execution_count": 31,
   "id": "2568d1cc",
   "metadata": {},
   "outputs": [
    {
     "name": "stdout",
     "output_type": "stream",
     "text": [
      "Ошибка при загрузке в S3: An error occurred (InvalidAccessKeyId) when calling the PutObject operation: The AWS Access Key Id you provided does not exist in our records.\n",
      "Тип BUCKET_NAME: <class 'str'>, значение: 's3-student-mle-20250130-b8bcb9fce1'\n",
      "Тип items: <class 'pandas.core.frame.DataFrame'>\n",
      "Тип events: <class 'pandas.core.frame.DataFrame'>\n"
     ]
    }
   ],
   "source": [
    "\n",
    "# Проверка переменных окружения\n",
    "AWS_ACCESS_KEY_ID = s3_access_key\n",
    "AWS_SECRET_ACCESS_KEY = s3_secret_access_key\n",
    "BUCKET_NAME = s3_bucket\n",
    "\n",
    "# Проверка наличия всех переменных окружения\n",
    "if not all([AWS_ACCESS_KEY_ID, AWS_SECRET_ACCESS_KEY, BUCKET_NAME]):\n",
    "    missing = [var for var in [\"AWS_ACCESS_KEY_ID\", \"AWS_SECRET_ACCESS_KEY\", \"S3_BUCKET_NAME\"] \n",
    "               if not os.getenv(var)]\n",
    "    raise ValueError(f\"Не установлены переменные окружения: {', '.join(missing)}\")\n",
    "\n",
    "# Инициализация клиента S3\n",
    "s3 = boto3.client('s3',\n",
    "                  aws_access_key_id=AWS_ACCESS_KEY_ID,\n",
    "                  aws_secret_access_key=AWS_SECRET_ACCESS_KEY)\n",
    "\n",
    "def save_df_to_s3_parquet(df, bucket, key):\n",
    "    \"\"\"Сохраняет DataFrame в Parquet на S3\"\"\"\n",
    "    # Проверка типа данных\n",
    "    if not isinstance(df, pd.DataFrame):\n",
    "        raise TypeError(\"df должен быть pandas DataFrame\")\n",
    "    \n",
    "    if not isinstance(bucket, str):\n",
    "        raise TypeError(\"bucket должен быть строкой\")\n",
    "    \n",
    "    if not isinstance(key, str):\n",
    "        raise TypeError(\"key должен быть строкой\")\n",
    "    \n",
    "    buffer = BytesIO()\n",
    "    df.to_parquet(buffer)\n",
    "    buffer.seek(0)\n",
    "    \n",
    "    s3.put_object(Bucket=bucket, Key=key, Body=buffer.getvalue())\n",
    "    print(f\"Файл {key} успешно загружен в S3\")\n",
    "\n",
    "try:\n",
    "    # Сохранение items.parquet\n",
    "    save_df_to_s3_parquet(items, BUCKET_NAME, 'recsys/data/items.parquet')\n",
    "    \n",
    "    # Сохранение events.parquet\n",
    "    save_df_to_s3_parquet(events, BUCKET_NAME, 'recsys/data/events.parquet')\n",
    "    \n",
    "    print(\"Все файлы успешно загружены в S3!\")\n",
    "except Exception as e:\n",
    "    print(f\"Ошибка при загрузке в S3: {e}\")\n",
    "    # Дополнительная диагностика\n",
    "    print(f\"Тип BUCKET_NAME: {type(BUCKET_NAME)}, значение: '{BUCKET_NAME}'\")\n",
    "    print(f\"Тип items: {type(items)}\")\n",
    "    print(f\"Тип events: {type(events)}\")"
   ]
  },
  {
   "cell_type": "code",
   "execution_count": 30,
   "id": "5f2166a2",
   "metadata": {},
   "outputs": [],
   "source": [
    "\n",
    "items.to_parquet(\"items.parquet\")\n",
    "events.to_parquet(\"events.parquet\")"
   ]
  },
  {
   "cell_type": "markdown",
   "id": "72ecbbed-c560-44d9-9c14-86c7dc76f399",
   "metadata": {},
   "source": [
    "# Очистка памяти"
   ]
  },
  {
   "cell_type": "markdown",
   "id": "b5358ede-ba6e-4c4f-bd73-5b9344f0ba79",
   "metadata": {},
   "source": [
    "Здесь, может понадобится очистка памяти для высвобождения ресурсов для выполнения кода ниже. \n",
    "\n",
    "Приведите соответствующие код, комментарии, например:\n",
    "- код для удаление более ненужных переменных,\n",
    "- комментарий, что следует перезапустить kernel, выполнить такие-то начальные секции и продолжить с этапа 3."
   ]
  },
  {
   "cell_type": "code",
   "execution_count": null,
   "id": "767fe920-e12e-4ad8-b04e-56e8091fac9f",
   "metadata": {},
   "outputs": [],
   "source": []
  },
  {
   "cell_type": "markdown",
   "id": "708503df-ee89-4cf3-8489-093dc478e2a8",
   "metadata": {},
   "source": [
    "# === ЭТАП 3 ==="
   ]
  },
  {
   "cell_type": "markdown",
   "id": "fd77de22-e10f-4b42-85c1-8fb6f805fe68",
   "metadata": {},
   "source": [
    "# Загрузка данных"
   ]
  },
  {
   "cell_type": "markdown",
   "id": "780a4241-1ecd-4a3e-bbb3-fc2f6ca94f68",
   "metadata": {},
   "source": [
    "Если необходимо, то загружаем items.parquet, events.parquet."
   ]
  },
  {
   "cell_type": "code",
   "execution_count": null,
   "id": "f19fc8a5-bd2c-40d7-864a-ee75aca6d512",
   "metadata": {},
   "outputs": [],
   "source": []
  },
  {
   "cell_type": "code",
   "execution_count": null,
   "id": "5db1e801-5845-4ce3-86f2-c2fa30f68cc5",
   "metadata": {},
   "outputs": [],
   "source": []
  },
  {
   "cell_type": "markdown",
   "id": "a694c023-6477-490b-939d-1cfa6f5f1b72",
   "metadata": {},
   "source": [
    "# Разбиение данных"
   ]
  },
  {
   "cell_type": "markdown",
   "id": "fbd5f6e0-54e7-4428-8678-eabce505d82c",
   "metadata": {},
   "source": [
    "Разбиваем данные на тренировочную, тестовую выборки."
   ]
  },
  {
   "cell_type": "code",
   "execution_count": null,
   "id": "00c2dfa5-d8a2-47d1-922e-6eefee2c62d1",
   "metadata": {},
   "outputs": [],
   "source": []
  },
  {
   "cell_type": "code",
   "execution_count": null,
   "id": "26fe3e3c-8c5f-4437-bf13-9191adef08bb",
   "metadata": {},
   "outputs": [],
   "source": []
  },
  {
   "cell_type": "markdown",
   "id": "9131c7e6-8852-4556-b510-51f7253cc299",
   "metadata": {},
   "source": [
    "# Топ популярных"
   ]
  },
  {
   "cell_type": "markdown",
   "id": "dd70d43a-88cc-4719-b291-feaed7136f30",
   "metadata": {},
   "source": [
    "Рассчитаем рекомендации как топ популярных."
   ]
  },
  {
   "cell_type": "code",
   "execution_count": null,
   "id": "ee45e200-b7d6-4f56-9077-aad431689b96",
   "metadata": {},
   "outputs": [],
   "source": []
  },
  {
   "cell_type": "code",
   "execution_count": null,
   "id": "7690c86f-7aa9-46ed-bba5-2c837626411e",
   "metadata": {},
   "outputs": [],
   "source": []
  },
  {
   "cell_type": "markdown",
   "id": "2ad231f2-6158-421a-b7fa-01d8bc3ed572",
   "metadata": {},
   "source": [
    "# Персональные"
   ]
  },
  {
   "cell_type": "markdown",
   "id": "86159460-cd9d-4b63-8248-604ea3c9aebf",
   "metadata": {},
   "source": [
    "Рассчитаем персональные рекомендации."
   ]
  },
  {
   "cell_type": "code",
   "execution_count": null,
   "id": "d2944822-569c-4f9b-82dc-70a7fa2d542e",
   "metadata": {},
   "outputs": [],
   "source": []
  },
  {
   "cell_type": "code",
   "execution_count": null,
   "id": "1e8cdb58-3a8c-45ad-8e5f-7f950314aa56",
   "metadata": {},
   "outputs": [],
   "source": []
  },
  {
   "cell_type": "markdown",
   "id": "5f09dc7e-7c91-4355-860a-b9cfb9f33f15",
   "metadata": {},
   "source": [
    "# Похожие"
   ]
  },
  {
   "cell_type": "markdown",
   "id": "1dfcb683-b440-40a8-9975-894156a53872",
   "metadata": {},
   "source": [
    "Рассчитаем похожие, они позже пригодятся для онлайн-рекомендаций."
   ]
  },
  {
   "cell_type": "code",
   "execution_count": null,
   "id": "a75d07ee-4b12-4ce5-aa85-e45cb7a7a4f0",
   "metadata": {},
   "outputs": [],
   "source": []
  },
  {
   "cell_type": "code",
   "execution_count": null,
   "id": "ce370904-4c49-4152-8706-416074ea9b9a",
   "metadata": {},
   "outputs": [],
   "source": []
  },
  {
   "cell_type": "markdown",
   "id": "0087a3e7-ca9f-42cd-944c-944222c1baef",
   "metadata": {},
   "source": [
    "# Построение признаков"
   ]
  },
  {
   "cell_type": "markdown",
   "id": "e82a32e1-b90b-4eaf-9439-fc8deab9f34b",
   "metadata": {},
   "source": [
    "Построим три признака, можно больше, для ранжирующей модели."
   ]
  },
  {
   "cell_type": "code",
   "execution_count": null,
   "id": "05b4ae84-406a-44a4-abec-4f80f93e3004",
   "metadata": {},
   "outputs": [],
   "source": []
  },
  {
   "cell_type": "code",
   "execution_count": null,
   "id": "00f84c35-f544-4c3d-ad53-9b1d2b684c75",
   "metadata": {},
   "outputs": [],
   "source": []
  },
  {
   "cell_type": "markdown",
   "id": "47bcf88d-b236-46f0-a6f3-38ddd64895fe",
   "metadata": {},
   "source": [
    "# Ранжирование рекомендаций"
   ]
  },
  {
   "cell_type": "markdown",
   "id": "e8cd8223-3418-4493-8c87-1f76286ebda0",
   "metadata": {},
   "source": [
    "Построим ранжирующую модель, чтобы сделать рекомендации более точными. Отранжируем рекомендации."
   ]
  },
  {
   "cell_type": "code",
   "execution_count": null,
   "id": "79f1dd92-32a9-463d-827e-8bb9ee5bbb54",
   "metadata": {},
   "outputs": [],
   "source": []
  },
  {
   "cell_type": "code",
   "execution_count": null,
   "id": "6dbe4db4-1ac5-44da-a13c-8e7f9768ab73",
   "metadata": {},
   "outputs": [],
   "source": []
  },
  {
   "cell_type": "markdown",
   "id": "b3c84071-45b5-4a15-a683-e0ab034a3128",
   "metadata": {},
   "source": [
    "# Оценка качества"
   ]
  },
  {
   "cell_type": "markdown",
   "id": "1b107fe4-554e-42b1-87d9-c435a52bb77a",
   "metadata": {},
   "source": [
    "Проверим оценку качества трёх типов рекомендаций: \n",
    "\n",
    "- топ популярных,\n",
    "- персональных, полученных при помощи ALS,\n",
    "- итоговых\n",
    "  \n",
    "по четырем метрикам: recall, precision, coverage, novelty."
   ]
  },
  {
   "cell_type": "code",
   "execution_count": null,
   "id": "94d6f388-aecb-443e-8647-14014e932d4d",
   "metadata": {},
   "outputs": [],
   "source": []
  },
  {
   "cell_type": "code",
   "execution_count": null,
   "id": "26df411f-14c1-4848-8797-f37afe449cc6",
   "metadata": {},
   "outputs": [],
   "source": []
  },
  {
   "cell_type": "markdown",
   "id": "f1c8d38c-32b0-46a4-96f0-cd01dac708bc",
   "metadata": {},
   "source": [
    "# === Выводы, метрики ==="
   ]
  },
  {
   "cell_type": "markdown",
   "id": "f7d7d5d8-7d1e-4fdf-a6cd-83e5ce92c684",
   "metadata": {},
   "source": [
    "Основные выводы при работе над расчётом рекомендаций, рассчитанные метрики."
   ]
  },
  {
   "cell_type": "code",
   "execution_count": null,
   "id": "6403097d-db36-46d9-8952-613c9bd51b05",
   "metadata": {},
   "outputs": [],
   "source": []
  },
  {
   "cell_type": "code",
   "execution_count": null,
   "id": "986cfdd5-6f2e-4de6-8666-85804c87d04b",
   "metadata": {},
   "outputs": [],
   "source": []
  }
 ],
 "metadata": {
  "kernelspec": {
   "display_name": ".venv_project_name",
   "language": "python",
   "name": "python3"
  },
  "language_info": {
   "codemirror_mode": {
    "name": "ipython",
    "version": 3
   },
   "file_extension": ".py",
   "mimetype": "text/x-python",
   "name": "python",
   "nbconvert_exporter": "python",
   "pygments_lexer": "ipython3",
   "version": "3.10.12"
  }
 },
 "nbformat": 4,
 "nbformat_minor": 5
}
