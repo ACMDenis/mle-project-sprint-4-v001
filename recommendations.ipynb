{
 "cells": [
  {
   "cell_type": "markdown",
   "id": "f4095ae4-7294-4b28-853e-88d235002c97",
   "metadata": {},
   "source": [
    "# Инициализация"
   ]
  },
  {
   "cell_type": "markdown",
   "id": "2f2318d2-9df8-4911-915e-15b725c44f8a",
   "metadata": {},
   "source": [
    "Загружаем библиотеки необходимые для выполнения кода ноутбука."
   ]
  },
  {
   "cell_type": "code",
   "execution_count": 1,
   "id": "662d04e7-1b0b-4e4a-9ddf-4526d7fef119",
   "metadata": {},
   "outputs": [],
   "source": [
    "import pandas as pd\n",
    "import boto3\n",
    "from io import BytesIO\n",
    "import pandas as pd\n",
    "import os\n"
   ]
  },
  {
   "cell_type": "markdown",
   "id": "bf80fbc5-b660-4fac-8fbb-a5cae77313b3",
   "metadata": {},
   "source": [
    "# === ЭТАП 1 ==="
   ]
  },
  {
   "cell_type": "markdown",
   "id": "5263a8b3-fe99-4204-8a2e-105182792c11",
   "metadata": {},
   "source": [
    "# Загрузка первичных данных"
   ]
  },
  {
   "cell_type": "markdown",
   "id": "1b54a6a5-1656-4e3c-99d1-49dc39451d33",
   "metadata": {},
   "source": [
    "Загружаем первичные данные из файлов:\n",
    "- tracks.parquet\n",
    "- catalog_names.parquet\n",
    "- interactions.parquet"
   ]
  },
  {
   "cell_type": "code",
   "execution_count": 2,
   "id": "5d4b8961-3f35-4e58-9d6b-3e2dbd2c4224",
   "metadata": {},
   "outputs": [],
   "source": [
    "\n",
    "\n",
    "# Загрузка данных\n",
    "tracks = pd.read_parquet('tracks.parquet')\n",
    "catalog_names = pd.read_parquet('catalog_names.parquet')\n",
    "interactions = pd.read_parquet('interactions.parquet')"
   ]
  },
  {
   "cell_type": "code",
   "execution_count": null,
   "id": "70f7bdfe-175c-45c1-a2e9-d99f0f33be2e",
   "metadata": {},
   "outputs": [],
   "source": []
  },
  {
   "cell_type": "markdown",
   "id": "e8f2a1f7-a05f-4f39-af90-5f4018aa6f9d",
   "metadata": {},
   "source": [
    "# Обзор данных"
   ]
  },
  {
   "cell_type": "markdown",
   "id": "46a85307-896c-4fac-9fcf-f0dffa90889e",
   "metadata": {},
   "source": [
    "Проверяем данные, есть ли с ними явные проблемы."
   ]
  },
  {
   "cell_type": "code",
   "execution_count": null,
   "id": "c9f8f17e-9b56-4f5a-a463-f694a993effb",
   "metadata": {},
   "outputs": [],
   "source": [
    "print(tracks.info())\n",
    "print(tracks.isnull().sum())\n",
    "print(tracks['track_id'].nunique() == len(tracks))"
   ]
  },
  {
   "cell_type": "code",
   "execution_count": null,
   "id": "efd2e2eb-3bec-4ce1-87ac-232bab8bc0d0",
   "metadata": {},
   "outputs": [],
   "source": [
    "print(catalog_names.info())\n",
    "print(catalog_names.isnull().sum())\n",
    "print(catalog_names.groupby('type')['id'].nunique())"
   ]
  },
  {
   "cell_type": "code",
   "execution_count": null,
   "id": "b6af58d0",
   "metadata": {},
   "outputs": [],
   "source": [
    "print(interactions.info())\n",
    "print(interactions.isnull().sum())\n",
    "print(interactions.duplicated(subset=['user_id', 'track_id']).sum())"
   ]
  },
  {
   "cell_type": "markdown",
   "id": "318b573a-9e2d-4808-95db-60cfb8bbdb73",
   "metadata": {
    "editable": true,
    "slideshow": {
     "slide_type": ""
    },
    "tags": []
   },
   "source": [
    "# Выводы"
   ]
  },
  {
   "cell_type": "markdown",
   "id": "caa96e12-36a8-4401-8f11-98627a49ae9d",
   "metadata": {},
   "source": [
    "Приведём выводы по первому знакомству с данными:\n",
    "- есть ли с данными явные проблемы,\n",
    "- какие корректирующие действия (в целом) были предприняты."
   ]
  },
  {
   "cell_type": "code",
   "execution_count": null,
   "id": "f58cd010-c2fa-475f-b7e9-767965cd4f55",
   "metadata": {},
   "outputs": [],
   "source": []
  },
  {
   "cell_type": "code",
   "execution_count": null,
   "id": "9eb65c5c-3c2a-412a-ab7e-30ec9da54fea",
   "metadata": {},
   "outputs": [],
   "source": []
  },
  {
   "cell_type": "markdown",
   "id": "7bc3296b-eba6-4333-a78d-b9304aa87e3d",
   "metadata": {},
   "source": [
    "# === ЭТАП 2 ==="
   ]
  },
  {
   "cell_type": "markdown",
   "id": "68e73960-fd38-4e15-8db0-9a25c35dfd25",
   "metadata": {},
   "source": [
    "# EDA"
   ]
  },
  {
   "cell_type": "markdown",
   "id": "a30e823e-8e0f-4a76-a02e-8d1ba8bf0f8a",
   "metadata": {},
   "source": [
    "Распределение количества прослушанных треков."
   ]
  },
  {
   "cell_type": "code",
   "execution_count": null,
   "id": "9bf5eaba-35f7-4da7-be59-9ab4a34b2423",
   "metadata": {},
   "outputs": [],
   "source": [
    "# Группируем по пользователям и считаем количество прослушиваний\n",
    "user_plays = interactions.groupby('user_id').size().reset_index(name='tracks_played')\n",
    "distribution = user_plays['tracks_played'].describe(percentiles=[.25, .5, .75, .9, .95, .99])\n",
    "print(\"Распределение количества прослушанных треков:\")\n",
    "print(distribution)"
   ]
  },
  {
   "cell_type": "markdown",
   "id": "d765519a-18dd-4d30-9e29-cc2d84cacd79",
   "metadata": {},
   "source": [
    "Наиболее популярные треки"
   ]
  },
  {
   "cell_type": "code",
   "execution_count": null,
   "id": "aecaf630-fde0-4860-b84a-42c933a9606e",
   "metadata": {},
   "outputs": [],
   "source": [
    "# Считаем количество прослушиваний для каждого трека\n",
    "track_popularity = interactions.groupby('track_id').size().reset_index(name='plays')\n",
    "top_tracks = track_popularity.sort_values('plays', ascending=False).head(10)\n",
    "print(\"\\nТоп-10 популярных треков:\")\n",
    "print(top_tracks)"
   ]
  },
  {
   "cell_type": "markdown",
   "id": "b1c32a5a-d3be-4f96-8dd9-f7860951020c",
   "metadata": {},
   "source": [
    "Наиболее популярные жанры"
   ]
  },
  {
   "cell_type": "code",
   "execution_count": 8,
   "id": "beb66d79",
   "metadata": {},
   "outputs": [],
   "source": [
    "\n",
    "track_genres = tracks.set_index('track_id')['genres'].to_dict()\n",
    "\n"
   ]
  },
  {
   "cell_type": "code",
   "execution_count": 9,
   "id": "d9d536da",
   "metadata": {},
   "outputs": [],
   "source": [
    "\n",
    "track_plays = interactions['track_id'].value_counts().reset_index()\n",
    "track_plays.columns = ['track_id', 'plays']"
   ]
  },
  {
   "cell_type": "code",
   "execution_count": 10,
   "id": "95dbfa6a",
   "metadata": {},
   "outputs": [],
   "source": [
    "from collections import defaultdict \n",
    "\n",
    "genre_plays = defaultdict(int)"
   ]
  },
  {
   "cell_type": "code",
   "execution_count": 11,
   "id": "f17dc7d9",
   "metadata": {},
   "outputs": [],
   "source": [
    "\n",
    "for track_id, plays in track_plays.itertuples(index=False):\n",
    "    genres = track_genres.get(track_id, [])\n",
    "    for genre_id in genres:\n",
    "        genre_plays[genre_id] += plays"
   ]
  },
  {
   "cell_type": "code",
   "execution_count": 12,
   "id": "bc7a6f56",
   "metadata": {},
   "outputs": [],
   "source": [
    "\n",
    "genre_popularity = (\n",
    "    pd.DataFrame(list(genre_plays.items()), columns=['genre_id', 'plays'])\n",
    "    .sort_values('plays', ascending=False)\n",
    "    .head(10)\n",
    ")"
   ]
  },
  {
   "cell_type": "code",
   "execution_count": null,
   "id": "a1f1edd4",
   "metadata": {},
   "outputs": [],
   "source": [
    "\n",
    "genre_names = (\n",
    "    catalog_names[catalog_names['type'] == 'genre']\n",
    "    .set_index('id')['name']\n",
    "    .to_dict()\n",
    ")\n",
    "\n",
    "genre_popularity['genre_name'] = genre_popularity['genre_id'].map(genre_names)\n",
    "\n",
    "print(\"Топ-10 популярных жанров:\")\n",
    "print(genre_popularity[['genre_name', 'plays']])"
   ]
  },
  {
   "cell_type": "markdown",
   "id": "15254e66-e80e-473b-ba24-abebea5ccac7",
   "metadata": {},
   "source": [
    "Треки, которые никто не прослушал"
   ]
  },
  {
   "cell_type": "code",
   "execution_count": null,
   "id": "50bc50c6-2d83-4c7e-97fa-3e7627978438",
   "metadata": {},
   "outputs": [],
   "source": [
    "# Находим треки из каталога, отсутствующие в прослушиваниях\n",
    "unplayed_tracks = tracks[~tracks['track_id'].isin(interactions['track_id'])][['track_id']]\n",
    "print(\"\\nТреки без прослушиваний:\")\n",
    "print(unplayed_tracks)"
   ]
  },
  {
   "cell_type": "markdown",
   "id": "0d850a07-ef1e-462f-891a-1cf89f2e24ef",
   "metadata": {},
   "source": [
    "# Преобразование данных"
   ]
  },
  {
   "cell_type": "markdown",
   "id": "fabcf8d2-1192-4df5-b20b-fbb84689f57a",
   "metadata": {},
   "source": [
    "Преобразуем данные в формат, более пригодный для дальнейшего использования в расчётах рекомендаций."
   ]
  },
  {
   "cell_type": "code",
   "execution_count": null,
   "id": "a425556a-9382-45ca-a04e-f1981a522126",
   "metadata": {},
   "outputs": [],
   "source": [
    "# Извлечение названий треков\n",
    "track_names = catalog_names[catalog_names['type'] == 'track'][['id', 'name']]\n",
    "track_names = track_names.rename(columns={'id': 'track_id', 'name': 'track_name'})\n",
    "\n",
    "# Извлечение названий альбомов\n",
    "album_names = catalog_names[catalog_names['type'] == 'album'][['id', 'name']]\n",
    "album_names = album_names.rename(columns={'id': 'album_id', 'name': 'album_name'})\n",
    "\n",
    "# Извлечение названий артистов\n",
    "artist_names = catalog_names[catalog_names['type'] == 'artist'][['id', 'name']]\n",
    "artist_names = artist_names.rename(columns={'id': 'artist_id', 'name': 'artist_name'})\n",
    "\n",
    "# Извлечение названий жанров\n",
    "genre_names = catalog_names[catalog_names['type'] == 'genre'][['id', 'name']]\n",
    "genre_names = genre_names.rename(columns={'id': 'genre_id', 'name': 'genre_name'})\n",
    "\n",
    "# Объединение данных\n",
    "items = (\n",
    "    tracks\n",
    "    # Добавление названий треков\n",
    "    .merge(track_names, on='track_id', how='left')\n",
    "    \n",
    "    # Развертывание списков альбомов\n",
    "    .explode('albums')\n",
    "    .rename(columns={'albums': 'album_id'})\n",
    "    # Добавление названий альбомов\n",
    "    .merge(album_names, on='album_id', how='left')\n",
    "    \n",
    "    # Развертывание списков артистов\n",
    "    .explode('artists')\n",
    "    .rename(columns={'artists': 'artist_id'})\n",
    "    # Добавление названий артистов\n",
    "    .merge(artist_names, on='artist_id', how='left')\n",
    "    \n",
    "    # Развертывание списков жанров\n",
    "    .explode('genres')\n",
    "    .rename(columns={'genres': 'genre_id'})\n",
    "    # Добавление названий жанров\n",
    "    .merge(genre_names, on='genre_id', how='left')\n",
    "    \n",
    "    # Группировка в списки\n",
    "    .groupby(['track_id', 'track_name']).agg({\n",
    "        'album_id': list,\n",
    "        'album_name': list,\n",
    "        'artist_id': list,\n",
    "        'artist_name': list,\n",
    "        'genre_id': list,\n",
    "        'genre_name': list\n",
    "    }).reset_index()\n",
    ")\n",
    "\n",
    "# Проверка результата\n",
    "print(items.head(3))"
   ]
  },
  {
   "cell_type": "markdown",
   "id": "4d1be653-eed8-4fa0-a9c5-3811b080d71d",
   "metadata": {},
   "source": [
    "# Сохранение данных"
   ]
  },
  {
   "cell_type": "markdown",
   "id": "36f1314a-3af3-4faf-a0b1-3045173d1500",
   "metadata": {},
   "source": [
    "Сохраним данные в двух файлах в персональном S3-бакете по пути `recsys/data/`:\n",
    "- `items.parquet` — все данные о музыкальных треках,\n",
    "- `events.parquet` — все данные о взаимодействиях."
   ]
  },
  {
   "cell_type": "code",
   "execution_count": 16,
   "id": "9f77af17-7705-4fae-9aad-db579b39faad",
   "metadata": {},
   "outputs": [],
   "source": [
    "events = interactions.copy()"
   ]
  },
  {
   "cell_type": "code",
   "execution_count": null,
   "id": "ca5e6bd8",
   "metadata": {},
   "outputs": [],
   "source": [
    "%load_ext autoreload\n",
    "%autoreload 2\n",
    "from dotenv import load_dotenv, find_dotenv\n",
    "import os"
   ]
  },
  {
   "cell_type": "code",
   "execution_count": null,
   "id": "58a7ac0b",
   "metadata": {},
   "outputs": [],
   "source": [
    "# подгружаем .env\n",
    "load_dotenv()"
   ]
  },
  {
   "cell_type": "code",
   "execution_count": 19,
   "id": "1010d896",
   "metadata": {},
   "outputs": [],
   "source": [
    "s3_bucket = os.environ.get('S3_BUCKET_NAME')\n",
    "s3_access_key = os.environ.get('AWS_ACCESS_KEY_ID')\n",
    "s3_secret_access_key = os.environ.get('AWS_SECRET_ACCESS_KEY')"
   ]
  },
  {
   "cell_type": "code",
   "execution_count": null,
   "id": "95292f64",
   "metadata": {},
   "outputs": [],
   "source": [
    "print(s3_access_key)"
   ]
  },
  {
   "cell_type": "code",
   "execution_count": null,
   "id": "2568d1cc",
   "metadata": {},
   "outputs": [],
   "source": [
    "import os\n",
    "import boto3\n",
    "import pandas as pd\n",
    "from io import BytesIO\n",
    "\n",
    "# Правильное получение переменных окружения\n",
    "AWS_ACCESS_KEY_ID = os.getenv(\"AWS_ACCESS_KEY_ID\")\n",
    "AWS_SECRET_ACCESS_KEY = os.getenv(\"AWS_SECRET_ACCESS_KEY\")\n",
    "BUCKET_NAME = os.getenv(\"S3_BUCKET_NAME\")  # имя переменной должно совпадать\n",
    "\n",
    "# Проверка наличия ВСЕХ переменных\n",
    "required_vars = {\n",
    "    \"AWS_ACCESS_KEY_ID\": AWS_ACCESS_KEY_ID,\n",
    "    \"AWS_SECRET_ACCESS_KEY\": AWS_SECRET_ACCESS_KEY,\n",
    "    \"S3_BUCKET_NAME\": BUCKET_NAME\n",
    "}\n",
    "\n",
    "missing = [var for var, val in required_vars.items() if not val]\n",
    "if missing:\n",
    "    raise ValueError(f\"Отсутствуют переменные окружения: {', '.join(missing)}\")\n",
    "\n",
    "# Настройка окружения для MLflow (только если нужно для других компонентов)\n",
    "os.environ.update({\n",
    "    \"MLFLOW_S3_ENDPOINT_URL\": \"https://storage.yandexcloud.net\",\n",
    "    \"AWS_ACCESS_KEY_ID\": AWS_ACCESS_KEY_ID,  # используем полученные значения\n",
    "    \"AWS_SECRET_ACCESS_KEY\": AWS_SECRET_ACCESS_KEY,\n",
    "})\n",
    "\n",
    "# Инициализация клиента S3\n",
    "s3 = boto3.client(\n",
    "    's3',\n",
    "    endpoint_url=\"https://storage.yandexcloud.net\",  # явное указание endpoint\n",
    "    aws_access_key_id=AWS_ACCESS_KEY_ID,\n",
    "    aws_secret_access_key=AWS_SECRET_ACCESS_KEY\n",
    ")\n",
    "\n",
    "def save_df_to_s3_parquet(df, bucket, key):\n",
    "    \"\"\"Сохраняет DataFrame в Parquet на S3\"\"\"\n",
    "    if not isinstance(df, pd.DataFrame):\n",
    "        raise TypeError(\"df должен быть pandas DataFrame\")\n",
    "    \n",
    "    buffer = BytesIO()\n",
    "    df.to_parquet(buffer, index=False)  # index=False для экономии места\n",
    "    buffer.seek(0)\n",
    "    \n",
    "    s3.put_object(\n",
    "        Bucket=bucket,\n",
    "        Key=key,\n",
    "        Body=buffer,\n",
    "        ContentType='application/parquet'\n",
    "    )\n",
    "    print(f\"Файл {key} успешно загружен в S3\")\n",
    "\n",
    "try:\n",
    "    save_df_to_s3_parquet(items, BUCKET_NAME, 'recsys/data/items.parquet')\n",
    "    save_df_to_s3_parquet(events, BUCKET_NAME, 'recsys/data/events.parquet')\n",
    "    print(\"Все файлы успешно загружены в S3!\")\n",
    "    \n",
    "except Exception as e:\n",
    "    print(f\"Ошибка при загрузке в S3: {str(e)}\")\n",
    "    # Добавляем вывод самих ключей для отладки (осторожно!)\n",
    "    print(f\"BUCKET_NAME: {BUCKET_NAME}\")\n",
    "    print(f\"Ключ доступа: {AWS_ACCESS_KEY_ID[:5]}...\")  # показываем только первые 5 символов\n",
    "    print(f\"Тип данных items: {type(items)}\")\n",
    "    print(f\"Тип данных events: {type(events)}\")"
   ]
  },
  {
   "cell_type": "code",
   "execution_count": 22,
   "id": "5f2166a2",
   "metadata": {},
   "outputs": [],
   "source": [
    "\n",
    "items.to_parquet(\"items.parquet\")\n",
    "events.to_parquet(\"events.parquet\")"
   ]
  },
  {
   "cell_type": "markdown",
   "id": "72ecbbed-c560-44d9-9c14-86c7dc76f399",
   "metadata": {},
   "source": [
    "# Очистка памяти"
   ]
  },
  {
   "cell_type": "markdown",
   "id": "b5358ede-ba6e-4c4f-bd73-5b9344f0ba79",
   "metadata": {},
   "source": [
    "Здесь, может понадобится очистка памяти для высвобождения ресурсов для выполнения кода ниже. \n",
    "\n",
    "Приведите соответствующие код, комментарии, например:\n",
    "- код для удаление более ненужных переменных,\n",
    "- комментарий, что следует перезапустить kernel, выполнить такие-то начальные секции и продолжить с этапа 3."
   ]
  },
  {
   "cell_type": "code",
   "execution_count": null,
   "id": "767fe920-e12e-4ad8-b04e-56e8091fac9f",
   "metadata": {},
   "outputs": [],
   "source": [
    "import gc\n",
    "gc.collect()\n",
    "\n",
    "print(\"Память частично освобождена\")\n"
   ]
  },
  {
   "cell_type": "markdown",
   "id": "708503df-ee89-4cf3-8489-093dc478e2a8",
   "metadata": {},
   "source": [
    "# === ЭТАП 3 ==="
   ]
  },
  {
   "cell_type": "markdown",
   "id": "fd77de22-e10f-4b42-85c1-8fb6f805fe68",
   "metadata": {},
   "source": [
    "# Загрузка данных"
   ]
  },
  {
   "cell_type": "markdown",
   "id": "780a4241-1ecd-4a3e-bbb3-fc2f6ca94f68",
   "metadata": {},
   "source": [
    "Если необходимо, то загружаем items.parquet, events.parquet."
   ]
  },
  {
   "cell_type": "code",
   "execution_count": 1,
   "id": "f19fc8a5-bd2c-40d7-864a-ee75aca6d512",
   "metadata": {},
   "outputs": [],
   "source": [
    "import pandas as pd\n",
    "import numpy as np\n",
    "from datetime import datetime\n",
    "\n",
    "# Загрузка обработанных данных\n",
    "items = pd.read_parquet('/home/mle-user/mle-project-sprint-4-v001/items.parquet')\n",
    "events = pd.read_parquet('/home/mle-user/mle-project-sprint-4-v001/events.parquet')\n",
    "\n",
    "# Преобразование даты\n",
    "events['started_at'] = pd.to_datetime(events['started_at'])\n",
    "\n",
    "# Разделение данных\n",
    "train_events = events[events['started_at'] < datetime(2022, 12, 16)]\n",
    "test_events = events[events['started_at'] >= datetime(2022, 12, 16)]\n",
    "\n",
    "# Сохранение тестовых данных для оценки\n",
    "test_events.to_parquet('test_events.parquet', index=False)"
   ]
  },
  {
   "cell_type": "code",
   "execution_count": null,
   "id": "5db1e801-5845-4ce3-86f2-c2fa30f68cc5",
   "metadata": {},
   "outputs": [],
   "source": []
  },
  {
   "cell_type": "markdown",
   "id": "a694c023-6477-490b-939d-1cfa6f5f1b72",
   "metadata": {},
   "source": [
    "# Разбиение данных"
   ]
  },
  {
   "cell_type": "markdown",
   "id": "fbd5f6e0-54e7-4428-8678-eabce505d82c",
   "metadata": {},
   "source": [
    "Разбиваем данные на тренировочную, тестовую выборки."
   ]
  },
  {
   "cell_type": "code",
   "execution_count": null,
   "id": "00c2dfa5-d8a2-47d1-922e-6eefee2c62d1",
   "metadata": {},
   "outputs": [],
   "source": []
  },
  {
   "cell_type": "code",
   "execution_count": null,
   "id": "26fe3e3c-8c5f-4437-bf13-9191adef08bb",
   "metadata": {},
   "outputs": [],
   "source": []
  },
  {
   "cell_type": "markdown",
   "id": "9131c7e6-8852-4556-b510-51f7253cc299",
   "metadata": {},
   "source": [
    "# Топ популярных"
   ]
  },
  {
   "cell_type": "markdown",
   "id": "dd70d43a-88cc-4719-b291-feaed7136f30",
   "metadata": {},
   "source": [
    "Рассчитаем рекомендации как топ популярных."
   ]
  },
  {
   "cell_type": "code",
   "execution_count": 2,
   "id": "ee45e200-b7d6-4f56-9077-aad431689b96",
   "metadata": {},
   "outputs": [],
   "source": [
    "# Расчет популярности треков\n",
    "top_popular = (\n",
    "    train_events.groupby('track_id')\n",
    "    .size()\n",
    "    .reset_index(name='count')\n",
    "    .sort_values('count', ascending=False)\n",
    "    .head(1000)  # Топ-1000 популярных треков\n",
    ")\n",
    "\n",
    "# Сохранение результатов\n",
    "top_popular.to_parquet('top_popular.parquet', index=False)"
   ]
  },
  {
   "cell_type": "code",
   "execution_count": null,
   "id": "7690c86f-7aa9-46ed-bba5-2c837626411e",
   "metadata": {},
   "outputs": [],
   "source": []
  },
  {
   "cell_type": "markdown",
   "id": "2ad231f2-6158-421a-b7fa-01d8bc3ed572",
   "metadata": {},
   "source": [
    "# Персональные"
   ]
  },
  {
   "cell_type": "markdown",
   "id": "86159460-cd9d-4b63-8248-604ea3c9aebf",
   "metadata": {},
   "source": [
    "Рассчитаем персональные рекомендации."
   ]
  },
  {
   "cell_type": "code",
   "execution_count": 6,
   "id": "aab8f5df",
   "metadata": {},
   "outputs": [],
   "source": []
  },
  {
   "cell_type": "code",
   "execution_count": 3,
   "id": "d2944822-569c-4f9b-82dc-70a7fa2d542e",
   "metadata": {},
   "outputs": [
    {
     "name": "stderr",
     "output_type": "stream",
     "text": [
      "/home/mle-user/.venv_project_name/lib/python3.10/site-packages/implicit/cpu/als.py:95: RuntimeWarning: OpenBLAS is configured to use 4 threads. It is highly recommended to disable its internal threadpool by setting the environment variable 'OPENBLAS_NUM_THREADS=1' or by calling 'threadpoolctl.threadpool_limits(1, \"blas\")'. Having OpenBLAS use a threadpool can lead to severe performance issues here.\n",
      "  check_blas_config()\n"
     ]
    },
    {
     "data": {
      "application/vnd.jupyter.widget-view+json": {
       "model_id": "02644efbb4dc4bd48b0f2197201e1eeb",
       "version_major": 2,
       "version_minor": 0
      },
      "text/plain": [
       "  0%|          | 0/10 [00:00<?, ?it/s]"
      ]
     },
     "metadata": {},
     "output_type": "display_data"
    }
   ],
   "source": [
    "from implicit.als import AlternatingLeastSquares\n",
    "import scipy.sparse as sp\n",
    "import numpy as np\n",
    "import pandas as pd\n",
    "\n",
    "# Ограничение датасета: выбираем топ-N пользователей по количеству взаимодействий\n",
    "USER_LIMIT = 10000  # Уменьшите для ускорения\n",
    "\n",
    "# Фильтрация активных пользователей\n",
    "user_activity = train_events['user_id'].value_counts()\n",
    "selected_users = user_activity.head(USER_LIMIT).index\n",
    "train_events_limited = train_events[train_events['user_id'].isin(selected_users)].copy()\n",
    "\n",
    "# Пересоздаем отображения для ограниченного датасета\n",
    "user_ids = train_events_limited['user_id'].unique()\n",
    "track_ids = train_events_limited['track_id'].unique()\n",
    "\n",
    "user2idx = {user: idx for idx, user in enumerate(user_ids)}\n",
    "track2idx = {track: idx for idx, track in enumerate(track_ids)}\n",
    "idx2user = {idx: user for user, idx in user2idx.items()}\n",
    "idx2track = {idx: track for track, idx in track2idx.items()}\n",
    "\n",
    "# Строим матрицу взаимодействий\n",
    "rows = train_events_limited['user_id'].map(user2idx)\n",
    "cols = train_events_limited['track_id'].map(track2idx)\n",
    "values = np.ones(len(train_events_limited))\n",
    "\n",
    "user_item_matrix = sp.csr_matrix(\n",
    "    (values, (rows, cols)), \n",
    "    shape=(len(user_ids), len(track_ids))\n",
    ")\n",
    "\n",
    "# Уменьшаем параметры модели для ускорения\n",
    "model = AlternatingLeastSquares(\n",
    "    factors=32,           # Уменьшено с 64\n",
    "    regularization=0.05,\n",
    "    iterations=10,        # Уменьшено с 15\n",
    "    random_state=42,\n",
    "    use_gpu=False        # Отключить GPU при проблемах\n",
    ")\n",
    "model.fit(user_item_matrix)\n",
    "\n",
    "# Генерируем рекомендации только для ограниченного набора пользователей\n",
    "user_indices = np.arange(len(user_ids))\n",
    "recommendations = model.recommend(\n",
    "    user_indices, \n",
    "    user_item_matrix,\n",
    "    N=10,\n",
    "    filter_already_liked_items=True\n",
    ")\n",
    "\n",
    "# Формируем результат\n",
    "user_ids_arr = np.array([idx2user[i] for i in range(len(user_ids))])\n",
    "track_ids_arr = np.array([idx2track[i] for i in range(len(track_ids))])\n",
    "\n",
    "user_indices_flat = np.repeat(user_indices, 10)\n",
    "user_ids_flat = user_ids_arr[user_indices_flat]\n",
    "track_indices_flat = recommendations[0].flatten()\n",
    "track_ids_flat = track_ids_arr[track_indices_flat]\n",
    "scores_flat = recommendations[1].flatten()\n",
    "\n",
    "personal_als = pd.DataFrame({\n",
    "    'user_id': user_ids_flat,\n",
    "    'track_id': track_ids_flat,\n",
    "    'score': scores_flat\n",
    "})\n",
    "\n",
    "personal_als.to_parquet('personal_als.parquet', index=False)"
   ]
  },
  {
   "cell_type": "code",
   "execution_count": null,
   "id": "1e8cdb58-3a8c-45ad-8e5f-7f950314aa56",
   "metadata": {},
   "outputs": [],
   "source": []
  },
  {
   "cell_type": "markdown",
   "id": "5f09dc7e-7c91-4355-860a-b9cfb9f33f15",
   "metadata": {},
   "source": [
    "# Похожие"
   ]
  },
  {
   "cell_type": "markdown",
   "id": "1dfcb683-b440-40a8-9975-894156a53872",
   "metadata": {},
   "source": [
    "Рассчитаем похожие, они позже пригодятся для онлайн-рекомендаций."
   ]
  },
  {
   "cell_type": "code",
   "execution_count": 5,
   "id": "a75d07ee-4b12-4ce5-aa85-e45cb7a7a4f0",
   "metadata": {},
   "outputs": [],
   "source": [
    "import concurrent.futures\n",
    "import numpy as np\n",
    "\n",
    "# Ограничиваем количество треков\n",
    "TRACK_LIMIT = 5000\n",
    "\n",
    "# Выбираем топ-N популярных треков\n",
    "track_popularity = train_events_limited['track_id'].value_counts()\n",
    "top_tracks = track_popularity.head(TRACK_LIMIT).index.tolist()\n",
    "\n",
    "# Создаем эффективные отображения\n",
    "track_indices = np.array([track2idx[track] for track in top_tracks])\n",
    "idx2track_arr = np.array(list(idx2track.values()))  # Векторизованный доступ\n",
    "\n",
    "# Кэшируем матрицу факторов для треков\n",
    "track_factors = model.item_factors\n",
    "\n",
    "# Функция для обработки одного трека\n",
    "def process_track(track_idx):\n",
    "    similar = model.similar_items(track_idx, N=6)  # Берем только 5 похожих + сам трек\n",
    "    \n",
    "    results = []\n",
    "    for similar_idx, score in zip(similar[0][1:], similar[1][1:]):\n",
    "        # Прямой доступ через массив вместо словаря\n",
    "        similar_track_id = idx2track_arr[similar_idx]\n",
    "        results.append((\n",
    "            idx2track_arr[track_idx],  # original_track_id\n",
    "            similar_track_id,\n",
    "            score\n",
    "        ))\n",
    "    return results\n",
    "\n",
    "# Многопоточная обработка\n",
    "similar_items = []\n",
    "with concurrent.futures.ThreadPoolExecutor(max_workers=8) as executor:\n",
    "    futures = [executor.submit(process_track, tidx) for tidx in track_indices]\n",
    "    for future in concurrent.futures.as_completed(futures):\n",
    "        similar_items.extend(future.result())\n",
    "\n",
    "# Создаем DataFrame и сохраняем\n",
    "similar = pd.DataFrame(similar_items, columns=['original_track_id', 'similar_track_id', 'score'])\n",
    "similar.to_parquet('similar.parquet', index=False)"
   ]
  },
  {
   "cell_type": "code",
   "execution_count": null,
   "id": "ce370904-4c49-4152-8706-416074ea9b9a",
   "metadata": {},
   "outputs": [],
   "source": []
  },
  {
   "cell_type": "markdown",
   "id": "0087a3e7-ca9f-42cd-944c-944222c1baef",
   "metadata": {},
   "source": [
    "# Построение признаков"
   ]
  },
  {
   "cell_type": "markdown",
   "id": "e82a32e1-b90b-4eaf-9439-fc8deab9f34b",
   "metadata": {},
   "source": [
    "Построим три признака, можно больше, для ранжирующей модели."
   ]
  },
  {
   "cell_type": "markdown",
   "id": "bfe8e05f",
   "metadata": {},
   "source": []
  },
  {
   "cell_type": "code",
   "execution_count": null,
   "id": "05b4ae84-406a-44a4-abec-4f80f93e3004",
   "metadata": {},
   "outputs": [],
   "source": []
  },
  {
   "cell_type": "code",
   "execution_count": null,
   "id": "00f84c35-f544-4c3d-ad53-9b1d2b684c75",
   "metadata": {},
   "outputs": [],
   "source": []
  },
  {
   "cell_type": "markdown",
   "id": "47bcf88d-b236-46f0-a6f3-38ddd64895fe",
   "metadata": {},
   "source": [
    "# Ранжирование рекомендаций"
   ]
  },
  {
   "cell_type": "markdown",
   "id": "e8cd8223-3418-4493-8c87-1f76286ebda0",
   "metadata": {},
   "source": [
    "Построим ранжирующую модель, чтобы сделать рекомендации более точными. Отранжируем рекомендации."
   ]
  },
  {
   "cell_type": "code",
   "execution_count": null,
   "id": "79f1dd92-32a9-463d-827e-8bb9ee5bbb54",
   "metadata": {},
   "outputs": [],
   "source": []
  },
  {
   "cell_type": "code",
   "execution_count": null,
   "id": "6dbe4db4-1ac5-44da-a13c-8e7f9768ab73",
   "metadata": {},
   "outputs": [],
   "source": []
  },
  {
   "cell_type": "markdown",
   "id": "b3c84071-45b5-4a15-a683-e0ab034a3128",
   "metadata": {},
   "source": [
    "# Оценка качества"
   ]
  },
  {
   "cell_type": "markdown",
   "id": "1b107fe4-554e-42b1-87d9-c435a52bb77a",
   "metadata": {},
   "source": [
    "Проверим оценку качества трёх типов рекомендаций: \n",
    "\n",
    "- топ популярных,\n",
    "- персональных, полученных при помощи ALS,\n",
    "- итоговых\n",
    "  \n",
    "по четырем метрикам: recall, precision, coverage, novelty."
   ]
  },
  {
   "cell_type": "code",
   "execution_count": null,
   "id": "94d6f388-aecb-443e-8647-14014e932d4d",
   "metadata": {},
   "outputs": [],
   "source": []
  },
  {
   "cell_type": "code",
   "execution_count": null,
   "id": "26df411f-14c1-4848-8797-f37afe449cc6",
   "metadata": {},
   "outputs": [],
   "source": []
  },
  {
   "cell_type": "markdown",
   "id": "f1c8d38c-32b0-46a4-96f0-cd01dac708bc",
   "metadata": {},
   "source": [
    "# === Выводы, метрики ==="
   ]
  },
  {
   "cell_type": "markdown",
   "id": "f7d7d5d8-7d1e-4fdf-a6cd-83e5ce92c684",
   "metadata": {},
   "source": [
    "Основные выводы при работе над расчётом рекомендаций, рассчитанные метрики."
   ]
  },
  {
   "cell_type": "code",
   "execution_count": null,
   "id": "6403097d-db36-46d9-8952-613c9bd51b05",
   "metadata": {},
   "outputs": [],
   "source": []
  },
  {
   "cell_type": "code",
   "execution_count": null,
   "id": "986cfdd5-6f2e-4de6-8666-85804c87d04b",
   "metadata": {},
   "outputs": [],
   "source": []
  }
 ],
 "metadata": {
  "kernelspec": {
   "display_name": ".venv_project_name",
   "language": "python",
   "name": "python3"
  },
  "language_info": {
   "codemirror_mode": {
    "name": "ipython",
    "version": 3
   },
   "file_extension": ".py",
   "mimetype": "text/x-python",
   "name": "python",
   "nbconvert_exporter": "python",
   "pygments_lexer": "ipython3",
   "version": "3.10.12"
  }
 },
 "nbformat": 4,
 "nbformat_minor": 5
}
