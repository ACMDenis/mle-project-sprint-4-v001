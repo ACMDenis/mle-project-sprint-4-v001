{
 "cells": [
  {
   "cell_type": "markdown",
   "id": "f4095ae4-7294-4b28-853e-88d235002c97",
   "metadata": {},
   "source": [
    "# Инициализация"
   ]
  },
  {
   "cell_type": "markdown",
   "id": "2f2318d2-9df8-4911-915e-15b725c44f8a",
   "metadata": {},
   "source": [
    "Загружаем библиотеки необходимые для выполнения кода ноутбука."
   ]
  },
  {
   "cell_type": "code",
   "execution_count": 1,
   "id": "662d04e7-1b0b-4e4a-9ddf-4526d7fef119",
   "metadata": {},
   "outputs": [],
   "source": [
    "import pandas as pd\n",
    "import boto3\n",
    "from io import BytesIO\n",
    "import pandas as pd\n",
    "import os\n"
   ]
  },
  {
   "cell_type": "markdown",
   "id": "bf80fbc5-b660-4fac-8fbb-a5cae77313b3",
   "metadata": {},
   "source": [
    "# === ЭТАП 1 ==="
   ]
  },
  {
   "cell_type": "markdown",
   "id": "5263a8b3-fe99-4204-8a2e-105182792c11",
   "metadata": {},
   "source": [
    "# Загрузка первичных данных"
   ]
  },
  {
   "cell_type": "markdown",
   "id": "1b54a6a5-1656-4e3c-99d1-49dc39451d33",
   "metadata": {},
   "source": [
    "Загружаем первичные данные из файлов:\n",
    "- tracks.parquet\n",
    "- catalog_names.parquet\n",
    "- interactions.parquet"
   ]
  },
  {
   "cell_type": "code",
   "execution_count": 2,
   "id": "5d4b8961-3f35-4e58-9d6b-3e2dbd2c4224",
   "metadata": {},
   "outputs": [],
   "source": [
    "\n",
    "\n",
    "# Загрузка данных\n",
    "tracks = pd.read_parquet('tracks.parquet')\n",
    "catalog_names = pd.read_parquet('catalog_names.parquet')\n",
    "interactions = pd.read_parquet('interactions.parquet')"
   ]
  },
  {
   "cell_type": "markdown",
   "id": "e8f2a1f7-a05f-4f39-af90-5f4018aa6f9d",
   "metadata": {},
   "source": [
    "# Обзор данных"
   ]
  },
  {
   "cell_type": "markdown",
   "id": "46a85307-896c-4fac-9fcf-f0dffa90889e",
   "metadata": {},
   "source": [
    "Проверяем данные, есть ли с ними явные проблемы."
   ]
  },
  {
   "cell_type": "code",
   "execution_count": null,
   "id": "c9f8f17e-9b56-4f5a-a463-f694a993effb",
   "metadata": {},
   "outputs": [],
   "source": [
    "print(tracks.info())\n",
    "print(tracks.isnull().sum())\n",
    "print(tracks['track_id'].nunique() == len(tracks))"
   ]
  },
  {
   "cell_type": "code",
   "execution_count": null,
   "id": "efd2e2eb-3bec-4ce1-87ac-232bab8bc0d0",
   "metadata": {},
   "outputs": [],
   "source": [
    "print(catalog_names.info())\n",
    "print(catalog_names.isnull().sum())\n",
    "print(catalog_names.groupby('type')['id'].nunique())"
   ]
  },
  {
   "cell_type": "code",
   "execution_count": null,
   "id": "b6af58d0",
   "metadata": {},
   "outputs": [],
   "source": [
    "print(interactions.info())\n",
    "print(interactions.isnull().sum())\n",
    "print(interactions.duplicated(subset=['user_id', 'track_id']).sum())"
   ]
  },
  {
   "cell_type": "markdown",
   "id": "318b573a-9e2d-4808-95db-60cfb8bbdb73",
   "metadata": {
    "editable": true,
    "slideshow": {
     "slide_type": ""
    },
    "tags": []
   },
   "source": [
    "# Выводы"
   ]
  },
  {
   "cell_type": "markdown",
   "id": "caa96e12-36a8-4401-8f11-98627a49ae9d",
   "metadata": {},
   "source": [
    "Приведём выводы по первому знакомству с данными:\n",
    "- есть ли с данными явные проблемы,\n",
    "- какие корректирующие действия (в целом) были предприняты."
   ]
  },
  {
   "cell_type": "markdown",
   "id": "7bc3296b-eba6-4333-a78d-b9304aa87e3d",
   "metadata": {},
   "source": [
    "# === ЭТАП 2 ==="
   ]
  },
  {
   "cell_type": "markdown",
   "id": "68e73960-fd38-4e15-8db0-9a25c35dfd25",
   "metadata": {},
   "source": [
    "# EDA"
   ]
  },
  {
   "cell_type": "markdown",
   "id": "a30e823e-8e0f-4a76-a02e-8d1ba8bf0f8a",
   "metadata": {},
   "source": [
    "Распределение количества прослушанных треков."
   ]
  },
  {
   "cell_type": "code",
   "execution_count": null,
   "id": "9bf5eaba-35f7-4da7-be59-9ab4a34b2423",
   "metadata": {},
   "outputs": [],
   "source": [
    "# Группируем по пользователям и считаем количество прослушиваний\n",
    "user_plays = interactions.groupby('user_id').size().reset_index(name='tracks_played')\n",
    "distribution = user_plays['tracks_played'].describe(percentiles=[.25, .5, .75, .9, .95, .99])\n",
    "print(\"Распределение количества прослушанных треков:\")\n",
    "print(distribution)"
   ]
  },
  {
   "cell_type": "markdown",
   "id": "d765519a-18dd-4d30-9e29-cc2d84cacd79",
   "metadata": {},
   "source": [
    "Наиболее популярные треки"
   ]
  },
  {
   "cell_type": "code",
   "execution_count": null,
   "id": "aecaf630-fde0-4860-b84a-42c933a9606e",
   "metadata": {},
   "outputs": [],
   "source": [
    "# Считаем количество прослушиваний для каждого трека\n",
    "track_popularity = interactions.groupby('track_id').size().reset_index(name='plays')\n",
    "top_tracks = track_popularity.sort_values('plays', ascending=False).head(10)\n",
    "print(\"\\nТоп-10 популярных треков:\")\n",
    "print(top_tracks)"
   ]
  },
  {
   "cell_type": "markdown",
   "id": "b1c32a5a-d3be-4f96-8dd9-f7860951020c",
   "metadata": {},
   "source": [
    "Наиболее популярные жанры"
   ]
  },
  {
   "cell_type": "code",
   "execution_count": 8,
   "id": "beb66d79",
   "metadata": {},
   "outputs": [],
   "source": [
    "\n",
    "track_genres = tracks.set_index('track_id')['genres'].to_dict()\n",
    "\n"
   ]
  },
  {
   "cell_type": "code",
   "execution_count": 9,
   "id": "d9d536da",
   "metadata": {},
   "outputs": [],
   "source": [
    "\n",
    "track_plays = interactions['track_id'].value_counts().reset_index()\n",
    "track_plays.columns = ['track_id', 'plays']"
   ]
  },
  {
   "cell_type": "code",
   "execution_count": 10,
   "id": "95dbfa6a",
   "metadata": {},
   "outputs": [],
   "source": [
    "from collections import defaultdict \n",
    "\n",
    "genre_plays = defaultdict(int)"
   ]
  },
  {
   "cell_type": "code",
   "execution_count": 11,
   "id": "f17dc7d9",
   "metadata": {},
   "outputs": [],
   "source": [
    "\n",
    "for track_id, plays in track_plays.itertuples(index=False):\n",
    "    genres = track_genres.get(track_id, [])\n",
    "    for genre_id in genres:\n",
    "        genre_plays[genre_id] += plays"
   ]
  },
  {
   "cell_type": "code",
   "execution_count": 12,
   "id": "bc7a6f56",
   "metadata": {},
   "outputs": [],
   "source": [
    "\n",
    "genre_popularity = (\n",
    "    pd.DataFrame(list(genre_plays.items()), columns=['genre_id', 'plays'])\n",
    "    .sort_values('plays', ascending=False)\n",
    "    .head(10)\n",
    ")"
   ]
  },
  {
   "cell_type": "code",
   "execution_count": null,
   "id": "a1f1edd4",
   "metadata": {},
   "outputs": [],
   "source": [
    "\n",
    "genre_names = (\n",
    "    catalog_names[catalog_names['type'] == 'genre']\n",
    "    .set_index('id')['name']\n",
    "    .to_dict()\n",
    ")\n",
    "\n",
    "genre_popularity['genre_name'] = genre_popularity['genre_id'].map(genre_names)\n",
    "\n",
    "print(\"Топ-10 популярных жанров:\")\n",
    "print(genre_popularity[['genre_name', 'plays']])"
   ]
  },
  {
   "cell_type": "markdown",
   "id": "15254e66-e80e-473b-ba24-abebea5ccac7",
   "metadata": {},
   "source": [
    "Треки, которые никто не прослушал"
   ]
  },
  {
   "cell_type": "code",
   "execution_count": null,
   "id": "50bc50c6-2d83-4c7e-97fa-3e7627978438",
   "metadata": {},
   "outputs": [],
   "source": [
    "# Находим треки из каталога, отсутствующие в прослушиваниях\n",
    "unplayed_tracks = tracks[~tracks['track_id'].isin(interactions['track_id'])][['track_id']]\n",
    "print(\"\\nТреки без прослушиваний:\")\n",
    "print(unplayed_tracks)"
   ]
  },
  {
   "cell_type": "markdown",
   "id": "0d850a07-ef1e-462f-891a-1cf89f2e24ef",
   "metadata": {},
   "source": [
    "# Преобразование данных"
   ]
  },
  {
   "cell_type": "markdown",
   "id": "fabcf8d2-1192-4df5-b20b-fbb84689f57a",
   "metadata": {},
   "source": [
    "Преобразуем данные в формат, более пригодный для дальнейшего использования в расчётах рекомендаций."
   ]
  },
  {
   "cell_type": "code",
   "execution_count": null,
   "id": "a425556a-9382-45ca-a04e-f1981a522126",
   "metadata": {},
   "outputs": [],
   "source": [
    "# Извлечение названий треков\n",
    "track_names = catalog_names[catalog_names['type'] == 'track'][['id', 'name']]\n",
    "track_names = track_names.rename(columns={'id': 'track_id', 'name': 'track_name'})\n",
    "\n",
    "# Извлечение названий альбомов\n",
    "album_names = catalog_names[catalog_names['type'] == 'album'][['id', 'name']]\n",
    "album_names = album_names.rename(columns={'id': 'album_id', 'name': 'album_name'})\n",
    "\n",
    "# Извлечение названий артистов\n",
    "artist_names = catalog_names[catalog_names['type'] == 'artist'][['id', 'name']]\n",
    "artist_names = artist_names.rename(columns={'id': 'artist_id', 'name': 'artist_name'})\n",
    "\n",
    "# Извлечение названий жанров\n",
    "genre_names = catalog_names[catalog_names['type'] == 'genre'][['id', 'name']]\n",
    "genre_names = genre_names.rename(columns={'id': 'genre_id', 'name': 'genre_name'})\n",
    "\n",
    "# Объединение данных\n",
    "items = (\n",
    "    tracks\n",
    "    # Добавление названий треков\n",
    "    .merge(track_names, on='track_id', how='left')\n",
    "    \n",
    "    # Развертывание списков альбомов\n",
    "    .explode('albums')\n",
    "    .rename(columns={'albums': 'album_id'})\n",
    "    # Добавление названий альбомов\n",
    "    .merge(album_names, on='album_id', how='left')\n",
    "    \n",
    "    # Развертывание списков артистов\n",
    "    .explode('artists')\n",
    "    .rename(columns={'artists': 'artist_id'})\n",
    "    # Добавление названий артистов\n",
    "    .merge(artist_names, on='artist_id', how='left')\n",
    "    \n",
    "    # Развертывание списков жанров\n",
    "    .explode('genres')\n",
    "    .rename(columns={'genres': 'genre_id'})\n",
    "    # Добавление названий жанров\n",
    "    .merge(genre_names, on='genre_id', how='left')\n",
    "    \n",
    "    # Группировка в списки\n",
    "    .groupby(['track_id', 'track_name']).agg({\n",
    "        'album_id': list,\n",
    "        'album_name': list,\n",
    "        'artist_id': list,\n",
    "        'artist_name': list,\n",
    "        'genre_id': list,\n",
    "        'genre_name': list\n",
    "    }).reset_index()\n",
    ")\n",
    "\n",
    "# Проверка результата\n",
    "print(items.head(3))"
   ]
  },
  {
   "cell_type": "markdown",
   "id": "4d1be653-eed8-4fa0-a9c5-3811b080d71d",
   "metadata": {},
   "source": [
    "# Сохранение данных"
   ]
  },
  {
   "cell_type": "markdown",
   "id": "36f1314a-3af3-4faf-a0b1-3045173d1500",
   "metadata": {},
   "source": [
    "Сохраним данные в двух файлах в персональном S3-бакете по пути `recsys/data/`:\n",
    "- `items.parquet` — все данные о музыкальных треках,\n",
    "- `events.parquet` — все данные о взаимодействиях."
   ]
  },
  {
   "cell_type": "code",
   "execution_count": 16,
   "id": "9f77af17-7705-4fae-9aad-db579b39faad",
   "metadata": {},
   "outputs": [],
   "source": [
    "events = interactions.copy()"
   ]
  },
  {
   "cell_type": "code",
   "execution_count": null,
   "id": "ca5e6bd8",
   "metadata": {},
   "outputs": [],
   "source": [
    "%load_ext autoreload\n",
    "%autoreload 2\n",
    "from dotenv import load_dotenv, find_dotenv\n",
    "import os"
   ]
  },
  {
   "cell_type": "code",
   "execution_count": null,
   "id": "58a7ac0b",
   "metadata": {},
   "outputs": [],
   "source": [
    "# подгружаем .env\n",
    "load_dotenv()"
   ]
  },
  {
   "cell_type": "code",
   "execution_count": 19,
   "id": "1010d896",
   "metadata": {},
   "outputs": [],
   "source": [
    "s3_bucket = os.environ.get('S3_BUCKET_NAME')\n",
    "s3_access_key = os.environ.get('AWS_ACCESS_KEY_ID')\n",
    "s3_secret_access_key = os.environ.get('AWS_SECRET_ACCESS_KEY')"
   ]
  },
  {
   "cell_type": "code",
   "execution_count": null,
   "id": "95292f64",
   "metadata": {},
   "outputs": [],
   "source": [
    "print(s3_access_key)"
   ]
  },
  {
   "cell_type": "code",
   "execution_count": null,
   "id": "2568d1cc",
   "metadata": {},
   "outputs": [],
   "source": [
    "import os\n",
    "import boto3\n",
    "import pandas as pd\n",
    "from io import BytesIO\n",
    "\n",
    "AWS_ACCESS_KEY_ID = os.getenv(\"AWS_ACCESS_KEY_ID\")\n",
    "AWS_SECRET_ACCESS_KEY = os.getenv(\"AWS_SECRET_ACCESS_KEY\")\n",
    "BUCKET_NAME = os.getenv(\"S3_BUCKET_NAME\")\n",
    "\n",
    "required_vars = {\n",
    "    \"AWS_ACCESS_KEY_ID\": AWS_ACCESS_KEY_ID,\n",
    "    \"AWS_SECRET_ACCESS_KEY\": AWS_SECRET_ACCESS_KEY,\n",
    "    \"S3_BUCKET_NAME\": BUCKET_NAME\n",
    "}\n",
    "\n",
    "missing = [var for var, val in required_vars.items() if not val]\n",
    "if missing:\n",
    "    raise ValueError(f\"Отсутствуют переменные окружения: {', '.join(missing)}\")\n",
    "\n",
    "os.environ.update({\n",
    "    \"MLFLOW_S3_ENDPOINT_URL\": \"https://storage.yandexcloud.net\",\n",
    "    \"AWS_ACCESS_KEY_ID\": AWS_ACCESS_KEY_ID, \n",
    "    \"AWS_SECRET_ACCESS_KEY\": AWS_SECRET_ACCESS_KEY,\n",
    "})\n",
    "\n",
    "# Инициализация клиента S3\n",
    "s3 = boto3.client(\n",
    "    's3',\n",
    "    endpoint_url=\"https://storage.yandexcloud.net\",  \n",
    "    aws_access_key_id=AWS_ACCESS_KEY_ID,\n",
    "    aws_secret_access_key=AWS_SECRET_ACCESS_KEY\n",
    ")\n",
    "\n",
    "def save_df_to_s3_parquet(df, bucket, key):\n",
    "    \"\"\"Сохраняет DataFrame в Parquet на S3\"\"\"\n",
    "    if not isinstance(df, pd.DataFrame):\n",
    "        raise TypeError(\"df должен быть pandas DataFrame\")\n",
    "    \n",
    "    buffer = BytesIO()\n",
    "    df.to_parquet(buffer, index=False)\n",
    "    buffer.seek(0)\n",
    "    \n",
    "    s3.put_object(\n",
    "        Bucket=bucket,\n",
    "        Key=key,\n",
    "        Body=buffer,\n",
    "        ContentType='application/parquet'\n",
    "    )\n",
    "    print(f\"Файл {key} успешно загружен в S3\")\n",
    "\n",
    "try:\n",
    "    save_df_to_s3_parquet(items, BUCKET_NAME, 'recsys/data/items.parquet')\n",
    "    save_df_to_s3_parquet(events, BUCKET_NAME, 'recsys/data/events.parquet')\n",
    "    print(\"Все файлы успешно загружены в S3!\")\n",
    "    \n",
    "except Exception as e:\n",
    "    print(f\"Ошибка при загрузке в S3: {str(e)}\")\n",
    "    print(f\"BUCKET_NAME: {BUCKET_NAME}\")\n",
    "    print(f\"Ключ доступа: {AWS_ACCESS_KEY_ID[:5]}...\") \n",
    "    print(f\"Тип данных items: {type(items)}\")\n",
    "    print(f\"Тип данных events: {type(events)}\")"
   ]
  },
  {
   "cell_type": "code",
   "execution_count": 22,
   "id": "5f2166a2",
   "metadata": {},
   "outputs": [],
   "source": [
    "\n",
    "items.to_parquet(\"items.parquet\")\n",
    "events.to_parquet(\"events.parquet\")"
   ]
  },
  {
   "cell_type": "markdown",
   "id": "72ecbbed-c560-44d9-9c14-86c7dc76f399",
   "metadata": {},
   "source": [
    "# Очистка памяти"
   ]
  },
  {
   "cell_type": "markdown",
   "id": "b5358ede-ba6e-4c4f-bd73-5b9344f0ba79",
   "metadata": {},
   "source": [
    "Здесь, может понадобится очистка памяти для высвобождения ресурсов для выполнения кода ниже. \n",
    "\n",
    "Приведите соответствующие код, комментарии, например:\n",
    "- код для удаление более ненужных переменных,\n",
    "- комментарий, что следует перезапустить kernel, выполнить такие-то начальные секции и продолжить с этапа 3."
   ]
  },
  {
   "cell_type": "code",
   "execution_count": null,
   "id": "767fe920-e12e-4ad8-b04e-56e8091fac9f",
   "metadata": {},
   "outputs": [],
   "source": [
    "import gc\n",
    "gc.collect()\n",
    "\n",
    "print(\"Память частично освобождена\")\n"
   ]
  },
  {
   "cell_type": "markdown",
   "id": "708503df-ee89-4cf3-8489-093dc478e2a8",
   "metadata": {},
   "source": [
    "# === ЭТАП 3 ==="
   ]
  },
  {
   "cell_type": "markdown",
   "id": "fd77de22-e10f-4b42-85c1-8fb6f805fe68",
   "metadata": {},
   "source": [
    "# Загрузка данных"
   ]
  },
  {
   "cell_type": "markdown",
   "id": "780a4241-1ecd-4a3e-bbb3-fc2f6ca94f68",
   "metadata": {},
   "source": [
    "Если необходимо, то загружаем items.parquet, events.parquet."
   ]
  },
  {
   "cell_type": "code",
   "execution_count": 3,
   "id": "f19fc8a5-bd2c-40d7-864a-ee75aca6d512",
   "metadata": {},
   "outputs": [],
   "source": [
    "import pandas as pd\n",
    "import numpy as np\n",
    "from datetime import datetime\n",
    "\n",
    "# Загрузка обработанных данных\n",
    "items = pd.read_parquet('/home/mle-user/mle-project-sprint-4-v001/items.parquet')\n",
    "events = pd.read_parquet('/home/mle-user/mle-project-sprint-4-v001/events.parquet')\n",
    "\n",
    "# Преобразование даты\n",
    "events['started_at'] = pd.to_datetime(events['started_at'])\n",
    "\n",
    "# Разделение данных\n",
    "train_events = events[events['started_at'] < datetime(2022, 12, 16)]\n",
    "test_events = events[events['started_at'] >= datetime(2022, 12, 16)]\n",
    "\n",
    "# Сохранение тестовых данных для оценки\n",
    "test_events.to_parquet('test_events.parquet', index=False)"
   ]
  },
  {
   "cell_type": "markdown",
   "id": "9131c7e6-8852-4556-b510-51f7253cc299",
   "metadata": {},
   "source": [
    "# Топ популярных"
   ]
  },
  {
   "cell_type": "markdown",
   "id": "dd70d43a-88cc-4719-b291-feaed7136f30",
   "metadata": {},
   "source": [
    "Рассчитаем рекомендации как топ популярных."
   ]
  },
  {
   "cell_type": "code",
   "execution_count": 4,
   "id": "ee45e200-b7d6-4f56-9077-aad431689b96",
   "metadata": {},
   "outputs": [],
   "source": [
    "# Расчет популярности треков\n",
    "top_popular = (\n",
    "    train_events.groupby('track_id')\n",
    "    .size()\n",
    "    .reset_index(name='count')\n",
    "    .sort_values('count', ascending=False)\n",
    "    .head(1000)  # Топ-1000 популярных треков\n",
    ")\n",
    "\n",
    "# Сохранение результатов\n",
    "top_popular.to_parquet('top_popular.parquet', index=False)"
   ]
  },
  {
   "cell_type": "code",
   "execution_count": null,
   "id": "7690c86f-7aa9-46ed-bba5-2c837626411e",
   "metadata": {},
   "outputs": [],
   "source": []
  },
  {
   "cell_type": "markdown",
   "id": "2ad231f2-6158-421a-b7fa-01d8bc3ed572",
   "metadata": {},
   "source": [
    "# Персональные"
   ]
  },
  {
   "cell_type": "markdown",
   "id": "86159460-cd9d-4b63-8248-604ea3c9aebf",
   "metadata": {},
   "source": [
    "Рассчитаем персональные рекомендации."
   ]
  },
  {
   "cell_type": "code",
   "execution_count": 6,
   "id": "aab8f5df",
   "metadata": {},
   "outputs": [],
   "source": []
  },
  {
   "cell_type": "code",
   "execution_count": 5,
   "id": "d2944822-569c-4f9b-82dc-70a7fa2d542e",
   "metadata": {},
   "outputs": [
    {
     "name": "stderr",
     "output_type": "stream",
     "text": [
      "/home/mle-user/.mle-sprint3-venv/lib/python3.10/site-packages/tqdm/auto.py:21: TqdmWarning: IProgress not found. Please update jupyter and ipywidgets. See https://ipywidgets.readthedocs.io/en/stable/user_install.html\n",
      "  from .autonotebook import tqdm as notebook_tqdm\n",
      "/home/mle-user/.mle-sprint3-venv/lib/python3.10/site-packages/implicit/cpu/als.py:95: RuntimeWarning: OpenBLAS is configured to use 4 threads. It is highly recommended to disable its internal threadpool by setting the environment variable 'OPENBLAS_NUM_THREADS=1' or by calling 'threadpoolctl.threadpool_limits(1, \"blas\")'. Having OpenBLAS use a threadpool can lead to severe performance issues here.\n",
      "  check_blas_config()\n",
      "100%|██████████| 10/10 [00:43<00:00,  4.37s/it]\n"
     ]
    }
   ],
   "source": [
    "from implicit.als import AlternatingLeastSquares\n",
    "import scipy.sparse as sp\n",
    "import numpy as np\n",
    "import pandas as pd\n",
    "\n",
    "# Ограничение датасета: выбираем топ-N пользователей по количеству взаимодействий\n",
    "USER_LIMIT = 10000  # Уменьшите для ускорения\n",
    "\n",
    "# Фильтрация активных пользователей\n",
    "user_activity = train_events['user_id'].value_counts()\n",
    "selected_users = user_activity.head(USER_LIMIT).index\n",
    "train_events_limited = train_events[train_events['user_id'].isin(selected_users)].copy()\n",
    "\n",
    "# Пересоздаем отображения для ограниченного датасета\n",
    "user_ids = train_events_limited['user_id'].unique()\n",
    "track_ids = train_events_limited['track_id'].unique()\n",
    "\n",
    "user2idx = {user: idx for idx, user in enumerate(user_ids)}\n",
    "track2idx = {track: idx for idx, track in enumerate(track_ids)}\n",
    "idx2user = {idx: user for user, idx in user2idx.items()}\n",
    "idx2track = {idx: track for track, idx in track2idx.items()}\n",
    "\n",
    "# Строим матрицу взаимодействий\n",
    "rows = train_events_limited['user_id'].map(user2idx)\n",
    "cols = train_events_limited['track_id'].map(track2idx)\n",
    "values = np.ones(len(train_events_limited))\n",
    "\n",
    "user_item_matrix = sp.csr_matrix(\n",
    "    (values, (rows, cols)), \n",
    "    shape=(len(user_ids), len(track_ids))\n",
    ")\n",
    "\n",
    "# Уменьшаем параметры модели для ускорения\n",
    "model = AlternatingLeastSquares(\n",
    "    factors=32,           # Уменьшено с 64\n",
    "    regularization=0.05,\n",
    "    iterations=10,        # Уменьшено с 15\n",
    "    random_state=42,\n",
    "    use_gpu=False        # Отключить GPU при проблемах\n",
    ")\n",
    "model.fit(user_item_matrix)\n",
    "\n",
    "# Генерируем рекомендации только для ограниченного набора пользователей\n",
    "user_indices = np.arange(len(user_ids))\n",
    "recommendations = model.recommend(\n",
    "    user_indices, \n",
    "    user_item_matrix,\n",
    "    N=10,\n",
    "    filter_already_liked_items=True\n",
    ")\n",
    "\n",
    "# Формируем результат\n",
    "user_ids_arr = np.array([idx2user[i] for i in range(len(user_ids))])\n",
    "track_ids_arr = np.array([idx2track[i] for i in range(len(track_ids))])\n",
    "\n",
    "user_indices_flat = np.repeat(user_indices, 10)\n",
    "user_ids_flat = user_ids_arr[user_indices_flat]\n",
    "track_indices_flat = recommendations[0].flatten()\n",
    "track_ids_flat = track_ids_arr[track_indices_flat]\n",
    "scores_flat = recommendations[1].flatten()\n",
    "\n",
    "personal_als = pd.DataFrame({\n",
    "    'user_id': user_ids_flat,\n",
    "    'track_id': track_ids_flat,\n",
    "    'score': scores_flat\n",
    "})\n",
    "\n",
    "personal_als.to_parquet('personal_als.parquet', index=False)"
   ]
  },
  {
   "cell_type": "code",
   "execution_count": null,
   "id": "1e8cdb58-3a8c-45ad-8e5f-7f950314aa56",
   "metadata": {},
   "outputs": [],
   "source": []
  },
  {
   "cell_type": "markdown",
   "id": "5f09dc7e-7c91-4355-860a-b9cfb9f33f15",
   "metadata": {},
   "source": [
    "# Похожие"
   ]
  },
  {
   "cell_type": "markdown",
   "id": "1dfcb683-b440-40a8-9975-894156a53872",
   "metadata": {},
   "source": [
    "Рассчитаем похожие, они позже пригодятся для онлайн-рекомендаций."
   ]
  },
  {
   "cell_type": "code",
   "execution_count": 6,
   "id": "a75d07ee-4b12-4ce5-aa85-e45cb7a7a4f0",
   "metadata": {},
   "outputs": [],
   "source": [
    "import concurrent.futures\n",
    "import numpy as np\n",
    "\n",
    "# Ограничиваем количество треков\n",
    "TRACK_LIMIT = 5000\n",
    "\n",
    "# Выбираем топ-N популярных треков\n",
    "track_popularity = train_events_limited['track_id'].value_counts()\n",
    "top_tracks = track_popularity.head(TRACK_LIMIT).index.tolist()\n",
    "\n",
    "# Создаем эффективные отображения\n",
    "track_indices = np.array([track2idx[track] for track in top_tracks])\n",
    "idx2track_arr = np.array(list(idx2track.values()))  # Векторизованный доступ\n",
    "\n",
    "# Кэшируем матрицу факторов для треков\n",
    "track_factors = model.item_factors\n",
    "\n",
    "# Функция для обработки одного трека\n",
    "def process_track(track_idx):\n",
    "    similar = model.similar_items(track_idx, N=6)  # Берем только 5 похожих + сам трек\n",
    "    \n",
    "    results = []\n",
    "    for similar_idx, score in zip(similar[0][1:], similar[1][1:]):\n",
    "        # Прямой доступ через массив вместо словаря\n",
    "        similar_track_id = idx2track_arr[similar_idx]\n",
    "        results.append((\n",
    "            idx2track_arr[track_idx],  # original_track_id\n",
    "            similar_track_id,\n",
    "            score\n",
    "        ))\n",
    "    return results\n",
    "\n",
    "# Многопоточная обработка\n",
    "similar_items = []\n",
    "with concurrent.futures.ThreadPoolExecutor(max_workers=8) as executor:\n",
    "    futures = [executor.submit(process_track, tidx) for tidx in track_indices]\n",
    "    for future in concurrent.futures.as_completed(futures):\n",
    "        similar_items.extend(future.result())\n",
    "\n",
    "# Создаем DataFrame и сохраняем\n",
    "similar = pd.DataFrame(similar_items, columns=['original_track_id', 'similar_track_id', 'score'])\n",
    "similar.to_parquet('similar.parquet', index=False)"
   ]
  },
  {
   "cell_type": "code",
   "execution_count": null,
   "id": "ce370904-4c49-4152-8706-416074ea9b9a",
   "metadata": {},
   "outputs": [],
   "source": []
  },
  {
   "cell_type": "markdown",
   "id": "0087a3e7-ca9f-42cd-944c-944222c1baef",
   "metadata": {},
   "source": [
    "# Построение признаков"
   ]
  },
  {
   "cell_type": "code",
   "execution_count": 7,
   "id": "05b4ae84-406a-44a4-abec-4f80f93e3004",
   "metadata": {},
   "outputs": [],
   "source": [
    "import pandas as pd\n",
    "import numpy as np\n",
    "from scipy.sparse import csr_matrix\n"
   ]
  },
  {
   "cell_type": "code",
   "execution_count": 18,
   "id": "c532ca0b",
   "metadata": {},
   "outputs": [],
   "source": [
    "\n",
    "# 6. Признак 4: Общая активность пользователя\n",
    "user_activity = train_events_limited.groupby('user_id').size().reset_index(name='total_activity')\n",
    "base_df = base_df.merge(\n",
    "    user_activity,\n",
    "    on='user_id',\n",
    "    how='left'\n",
    ").fillna(0)\n",
    "\n",
    "# 7. Признак 5: Средняя схожесть с историей прослушиваний\n",
    "# Создаем словари схожести\n",
    "similarity_dict = {}\n",
    "for _, row in similar.iterrows():\n",
    "    orig = row['original_track_id']\n",
    "    sim = row['similar_track_id']\n",
    "    score = row['score']\n",
    "    if orig not in similarity_dict:\n",
    "        similarity_dict[orig] = {}\n",
    "    similarity_dict[orig][sim] = score\n",
    "\n",
    "inverted_similarity = {}\n",
    "for orig, sim_dict in similarity_dict.items():\n",
    "    for sim, score in sim_dict.items():\n",
    "        if sim not in inverted_similarity:\n",
    "            inverted_similarity[sim] = {}\n",
    "        inverted_similarity[sim][orig] = score\n",
    "\n",
    "# Собираем историю прослушиваний\n",
    "user_history = train_events_limited.groupby('user_id')['track_id'].apply(set).to_dict()\n",
    "\n",
    "def calculate_avg_similarity(user_id, track_id):\n",
    "    if user_id not in user_history:\n",
    "        return 0.0\n",
    "        \n",
    "    user_tracks = user_history[user_id]\n",
    "    total_sim = 0.0\n",
    "    count = 0\n",
    "    \n",
    "    if track_id in inverted_similarity:\n",
    "        track_similarities = inverted_similarity[track_id]\n",
    "        for ut in user_tracks:\n",
    "            if ut in track_similarities:\n",
    "                total_sim += track_similarities[ut]\n",
    "                count += 1\n",
    "    \n",
    "    return total_sim / count if count > 0 else 0.0\n",
    "\n",
    "# Вычисляем для уникальных пар\n",
    "unique_pairs = base_df[['user_id', 'track_id']].drop_duplicates()\n",
    "unique_pairs['avg_sim'] = unique_pairs.apply(\n",
    "    lambda row: calculate_avg_similarity(row['user_id'], row['track_id']), \n",
    "    axis=1\n",
    ")\n",
    "\n",
    "# Объединяем результаты\n",
    "base_df = base_df.merge(\n",
    "    unique_pairs,\n",
    "    on=['user_id', 'track_id'],\n",
    "    how='left'\n",
    ")\n",
    "base_df['avg_similarity'] = base_df['avg_sim'].fillna(0)\n",
    "base_df.drop(columns=['avg_sim'], inplace=True)\n",
    "\n",
    "# 8. Дополнительный признак: позиция в топе популярности\n",
    "top_popular['popular_rank'] = top_popular['count'].rank(method='dense', ascending=False)\n",
    "popular_rank_dict = top_popular.set_index('track_id')['popular_rank'].to_dict()\n",
    "base_df['popular_rank'] = base_df['track_id'].map(popular_rank_dict).fillna(0)\n",
    "\n",
    "# 9. Сохранение признаков\n",
    "features = base_df[[\n",
    "    'user_id', 'track_id', 'als_score', 'popularity', \n",
    "    'user_track_count', 'total_activity', 'avg_similarity',\n",
    "    'popular_rank'\n",
    "]]\n",
    "features.to_parquet('ranking_features.parquet', index=False)"
   ]
  },
  {
   "cell_type": "markdown",
   "id": "47bcf88d-b236-46f0-a6f3-38ddd64895fe",
   "metadata": {},
   "source": [
    "# Ранжирование рекомендаций"
   ]
  },
  {
   "cell_type": "markdown",
   "id": "e8cd8223-3418-4493-8c87-1f76286ebda0",
   "metadata": {},
   "source": [
    "Построим ранжирующую модель, чтобы сделать рекомендации более точными. Отранжируем рекомендации."
   ]
  },
  {
   "cell_type": "code",
   "execution_count": 15,
   "id": "f344858a",
   "metadata": {},
   "outputs": [],
   "source": [
    "import lightgbm as lgb\n",
    "from sklearn.model_selection import GroupShuffleSplit\n",
    "import numpy as np\n",
    "import pandas as pd\n"
   ]
  },
  {
   "cell_type": "code",
   "execution_count": 16,
   "id": "faaec9eb",
   "metadata": {},
   "outputs": [],
   "source": [
    "# 1. Загрузка и подготовка данных\n",
    "features = pd.read_parquet('ranking_features.parquet')\n",
    "\n",
    "# Создаем целевую переменную\n",
    "features['target'] = (features['user_track_count'] > 0).astype(int)"
   ]
  },
  {
   "cell_type": "code",
   "execution_count": 19,
   "id": "2ad77649",
   "metadata": {},
   "outputs": [],
   "source": [
    "\n",
    "# 2. Подготовка данных для LightGBM\n",
    "# Для LambdaRank нам нужны группы пользователей\n",
    "user_groups = features['user_id'].values\n",
    "group_sizes = features.groupby('user_id').size().values\n",
    "\n",
    "\n",
    "# Признаки и целевая переменная\n",
    "X = features[['als_score', 'popularity', 'user_track_count', \n",
    "              'total_activity', 'avg_similarity', 'popular_rank']]\n",
    "y = features['target']"
   ]
  },
  {
   "cell_type": "code",
   "execution_count": 20,
   "id": "d74acd50",
   "metadata": {},
   "outputs": [],
   "source": [
    "\n",
    "# 3. Разделение данных с сохранением групповой структуры\n",
    "gss = GroupShuffleSplit(n_splits=1, test_size=0.2, random_state=42)\n",
    "train_idx, val_idx = next(gss.split(X, y, groups=user_groups))\n",
    "\n",
    "X_train = X.iloc[train_idx]\n",
    "X_val = X.iloc[val_idx]\n",
    "y_train = y.iloc[train_idx]\n",
    "y_val = y.iloc[val_idx]\n",
    "\n",
    "# Получаем размеры групп для тренировочных и валидационных данных\n",
    "train_users = features.iloc[train_idx]['user_id'].unique()\n",
    "val_users = features.iloc[val_idx]['user_id'].unique()\n",
    "\n",
    "train_group_sizes = features[features['user_id'].isin(train_users)].groupby('user_id').size().values\n",
    "val_group_sizes = features[features['user_id'].isin(val_users)].groupby('user_id').size().values\n"
   ]
  },
  {
   "cell_type": "code",
   "execution_count": 21,
   "id": "ba944cb1",
   "metadata": {},
   "outputs": [],
   "source": [
    "\n",
    "\n",
    "# 4. Создание Dataset для LightGBM\n",
    "train_data = lgb.Dataset(\n",
    "    X_train, \n",
    "    label=y_train,\n",
    "    group=train_group_sizes,\n",
    "    free_raw_data=False\n",
    ")\n",
    "\n",
    "val_data = lgb.Dataset(\n",
    "    X_val, \n",
    "    label=y_val,\n",
    "    group=val_group_sizes,\n",
    "    reference=train_data,\n",
    "    free_raw_data=False\n",
    ")"
   ]
  },
  {
   "cell_type": "code",
   "execution_count": 22,
   "id": "2dda28e9",
   "metadata": {},
   "outputs": [],
   "source": [
    "\n",
    "\n",
    "# 5. Параметры модели\n",
    "params = {\n",
    "    'objective': 'lambdarank',\n",
    "    'metric': 'ndcg',\n",
    "    'ndcg_eval_at': [10],\n",
    "    'learning_rate': 0.05,\n",
    "    'num_leaves': 31,\n",
    "    'min_data_in_leaf': 20,\n",
    "    'feature_fraction': 0.8,\n",
    "    'bagging_fraction': 0.8,\n",
    "    'bagging_freq': 1,\n",
    "    'verbosity': -1,\n",
    "    'seed': 42\n",
    "}"
   ]
  },
  {
   "cell_type": "code",
   "execution_count": 25,
   "id": "09ff36b2",
   "metadata": {},
   "outputs": [
    {
     "name": "stdout",
     "output_type": "stream",
     "text": [
      "Training until validation scores don't improve for 20 rounds\n",
      "[20]\tvalid_0's ndcg@10: 1\n",
      "Early stopping, best iteration is:\n",
      "[1]\tvalid_0's ndcg@10: 1\n"
     ]
    }
   ],
   "source": [
    "\n",
    "# 6. Обучение модели с правильным использованием callbacks\n",
    "model = lgb.train(\n",
    "    params,\n",
    "    train_data,\n",
    "    num_boost_round=1000,\n",
    "    valid_sets=[val_data],\n",
    "    callbacks=[\n",
    "        lgb.early_stopping(stopping_rounds=20, verbose=True),\n",
    "        lgb.log_evaluation(period=20)\n",
    "    ]\n",
    ")\n"
   ]
  },
  {
   "cell_type": "code",
   "execution_count": 27,
   "id": "d5519659",
   "metadata": {},
   "outputs": [],
   "source": [
    "\n",
    "\n",
    "# 7. Переранжирование рекомендаций\n",
    "# Добавляем предсказания модели к данным\n",
    "features['lgb_score'] = model.predict(X)\n",
    "\n",
    "\n",
    "# Для каждого пользователя отбираем топ-10 рекомендаций\n",
    "final_recs = features.sort_values(['user_id', 'lgb_score'], ascending=[True, False])\n",
    "final_recs = final_recs.groupby('user_id').head(10)\n",
    "\n",
    "# Сохранение финальных рекомендаций\n",
    "final_recs[['user_id', 'track_id', 'lgb_score']].to_parquet('final_recommendations.parquet', index=False)"
   ]
  },
  {
   "cell_type": "code",
   "execution_count": 28,
   "id": "79f1dd92-32a9-463d-827e-8bb9ee5bbb54",
   "metadata": {},
   "outputs": [
    {
     "name": "stdout",
     "output_type": "stream",
     "text": [
      "Ранжирующая модель успешно обучена!\n",
      "Количество пользователей: 10000\n",
      "Количество рекомендаций: 100000\n",
      "\n",
      "Важность признаков (по gain):\n",
      "            feature  importance\n",
      "0         als_score         0.0\n",
      "1        popularity         0.0\n",
      "2  user_track_count         0.0\n",
      "3    total_activity         0.0\n",
      "4    avg_similarity         0.0\n",
      "5      popular_rank         0.0\n"
     ]
    }
   ],
   "source": [
    "\n",
    "\n",
    "# 8. Вывод результатов\n",
    "print(\"Ранжирующая модель успешно обучена!\")\n",
    "print(f\"Количество пользователей: {len(final_recs['user_id'].unique())}\")\n",
    "print(f\"Количество рекомендаций: {len(final_recs)}\")\n",
    "\n",
    "# Важность признаков\n",
    "feature_importance = pd.DataFrame({\n",
    "    'feature': model.feature_name(),\n",
    "    'importance': model.feature_importance(importance_type='gain')\n",
    "}).sort_values('importance', ascending=False)\n",
    "\n",
    "print(\"\\nВажность признаков (по gain):\")\n",
    "print(feature_importance)"
   ]
  },
  {
   "cell_type": "code",
   "execution_count": null,
   "id": "6dbe4db4-1ac5-44da-a13c-8e7f9768ab73",
   "metadata": {},
   "outputs": [],
   "source": []
  },
  {
   "cell_type": "markdown",
   "id": "b3c84071-45b5-4a15-a683-e0ab034a3128",
   "metadata": {},
   "source": [
    "# Оценка качества"
   ]
  },
  {
   "cell_type": "markdown",
   "id": "1b107fe4-554e-42b1-87d9-c435a52bb77a",
   "metadata": {},
   "source": [
    "Проверим оценку качества трёх типов рекомендаций: \n",
    "\n",
    "- топ популярных,\n",
    "- персональных, полученных при помощи ALS,\n",
    "- итоговых\n",
    "  \n",
    "по четырем метрикам: recall, precision, coverage, novelty."
   ]
  },
  {
   "cell_type": "code",
   "execution_count": 3,
   "id": "b7cb6e98",
   "metadata": {},
   "outputs": [],
   "source": [
    "import pandas as pd\n",
    "import numpy as np\n",
    "from collections import defaultdict\n",
    "from sklearn.metrics import precision_score, recall_score\n",
    "import seaborn"
   ]
  },
  {
   "cell_type": "code",
   "execution_count": 4,
   "id": "df1eb1cf",
   "metadata": {},
   "outputs": [],
   "source": [
    "\n",
    "# Загрузка данных\n",
    "train_events = pd.read_parquet('/home/mle-user/mle-project-sprint-4-v001/events.parquet')\n",
    "test_events = pd.read_parquet('test_events.parquet')\n",
    "items = pd.read_parquet('/home/mle-user/mle-project-sprint-4-v001/items.parquet')\n"
   ]
  },
  {
   "cell_type": "code",
   "execution_count": 5,
   "id": "1c76a295",
   "metadata": {},
   "outputs": [],
   "source": [
    "\n",
    "# 1. Подготовка тестовых данных\n",
    "# Релевантные треки для каждого пользователя\n",
    "test_relevant = test_events.groupby('user_id')['track_id'].apply(set).to_dict()"
   ]
  },
  {
   "cell_type": "code",
   "execution_count": 6,
   "id": "f4c92b81",
   "metadata": {},
   "outputs": [],
   "source": [
    "\n",
    "# 2. Загрузка рекомендаций\n",
    "# Топ популярных\n",
    "top_popular = pd.read_parquet('top_popular.parquet')\n",
    "top10 = top_popular.head(10)['track_id'].tolist()\n",
    "\n",
    "# ALS рекомендации\n",
    "personal_als = pd.read_parquet('personal_als.parquet')\n",
    "\n",
    "# Финальные рекомендации\n",
    "final_recs = pd.read_parquet('final_recommendations.parquet')"
   ]
  },
  {
   "cell_type": "code",
   "execution_count": 8,
   "id": "97771cdb",
   "metadata": {},
   "outputs": [],
   "source": [
    "\n",
    "\n",
    "\n",
    "# 3. Подготовка словарей рекомендаций\n",
    "def prepare_recs(df, k=10):\n",
    "    recs = {}\n",
    "    for user, group in df.groupby('user_id'):\n",
    "        # Сортируем по убыванию релевантности и берем топ-k\n",
    "        recs[user] = group.sort_values('score' if 'score' in group.columns else 'lgb_score', \n",
    "                                      ascending=False)['track_id'].head(k).tolist()\n",
    "    return recs\n",
    "\n",
    "# Словари рекомендаций\n",
    "top_recs = {user: top10 for user in test_relevant.keys()} \n",
    "als_recs = prepare_recs(personal_als)\n",
    "final_recs_dict = prepare_recs(final_recs)\n"
   ]
  },
  {
   "cell_type": "code",
   "execution_count": 10,
   "id": "09c3bf17",
   "metadata": {},
   "outputs": [],
   "source": [
    "\n",
    "# 4. Метрики оценки\n",
    "\n",
    "def calculate_recall(relevant_dict, recs_dict):\n",
    "    \"\"\"Вычисление Recall@10\"\"\"\n",
    "    recalls = []\n",
    "    for user, true_tracks in relevant_dict.items():\n",
    "        if user not in recs_dict:\n",
    "            continue\n",
    "        pred_tracks = set(recs_dict[user][:10])\n",
    "        true_positives = len(pred_tracks & set(true_tracks))\n",
    "        if true_positives > 0:\n",
    "            recalls.append(true_positives / min(10, len(true_tracks)))\n",
    "    return np.mean(recalls) if recalls else 0\n",
    "\n",
    "def calculate_precision(relevant_dict, recs_dict):\n",
    "    \"\"\"Вычисление Precision@10\"\"\"\n",
    "    precisions = []\n",
    "    for user, true_tracks in relevant_dict.items():\n",
    "        if user not in recs_dict:\n",
    "            continue\n",
    "        pred_tracks = set(recs_dict[user][:10])\n",
    "        true_positives = len(pred_tracks & set(true_tracks))\n",
    "        precisions.append(true_positives / 10)\n",
    "    return np.mean(precisions) if precisions else 0\n",
    "\n",
    "def calculate_coverage(recs_dict, catalog_size):\n",
    "    \"\"\"Вычисление Coverage\"\"\"\n",
    "    all_recs = set()\n",
    "    for recs in recs_dict.values():\n",
    "        all_recs.update(recs)\n",
    "    return len(all_recs) / catalog_size\n",
    "\n",
    "def calculate_novelty(recs_dict, popularity_dict):\n",
    "    \"\"\"Вычисление Novelty\"\"\"\n",
    "    novelty_scores = []\n",
    "    for recs in recs_dict.values():\n",
    "        # Для каждого трека в рекомендациях: 1 / (популярность + 1)\n",
    "        track_novelty = [1 / (popularity_dict.get(track, 0) + 1)for track in recs]\n",
    "        novelty_scores.append(np.mean(track_novelty))\n",
    "    return np.mean(novelty_scores) if novelty_scores else 0"
   ]
  },
  {
   "cell_type": "code",
   "execution_count": 11,
   "id": "9478ea20",
   "metadata": {},
   "outputs": [],
   "source": [
    "\n",
    "\n",
    "# 5. Подготовка вспомогательных данных\n",
    "# Размер каталога\n",
    "catalog_size = len(items)\n",
    "\n",
    "popularity_dict = train_events.groupby('track_id').size().to_dict()"
   ]
  },
  {
   "cell_type": "code",
   "execution_count": 12,
   "id": "94d6f388-aecb-443e-8647-14014e932d4d",
   "metadata": {},
   "outputs": [],
   "source": [
    "\n",
    "\n",
    "# 6. Вычисление метрик для каждого типа рекомендаций\n",
    "results = []\n",
    "\n",
    "for rec_type, recs in [('Top Popular', top_recs), \n",
    "                      ('ALS', als_recs), \n",
    "                      ('Final', final_recs_dict)]:\n",
    "    \n",
    "    # Фильтруем пользователей, для которых есть рекомендации\n",
    "    common_users = set(recs.keys()) & set(test_relevant.keys())\n",
    "    filtered_recs = {user: recs[user] for user in common_users}\n",
    "    \n",
    "    # Вычисляем метрики\n",
    "    recall = calculate_recall(test_relevant, filtered_recs)\n",
    "    precision = calculate_precision(test_relevant, filtered_recs)\n",
    "    coverage = calculate_coverage(filtered_recs, catalog_size)\n",
    "    novelty = calculate_novelty(filtered_recs, popularity_dict)\n",
    "    \n",
    "    results.append({\n",
    "        'Type': rec_type,\n",
    "        'Recall@10': recall,\n",
    "        'Precision@10': precision,\n",
    "        'Coverage': coverage,\n",
    "        'Novelty': novelty,\n",
    "        'Users': len(common_users)\n",
    "    })\n",
    "\n",
    "\n"
   ]
  },
  {
   "cell_type": "code",
   "execution_count": 13,
   "id": "7ab8dc87",
   "metadata": {},
   "outputs": [
    {
     "name": "stdout",
     "output_type": "stream",
     "text": [
      "\n",
      "Оценка качества рекомендаций:\n",
      "Type            Top Popular          ALS        Final\n",
      "Recall@10          0.169450     0.140230     0.140230\n",
      "Precision@10       0.003782     0.002949     0.002949\n",
      "Coverage           0.000010     0.003878     0.003878\n",
      "Novelty            0.000011     0.000051     0.000051\n",
      "Users         783525.000000  8273.000000  8273.000000\n"
     ]
    }
   ],
   "source": [
    "\n",
    "# 7. Результаты в виде таблицы\n",
    "results_df = pd.DataFrame(results)\n",
    "print(\"\\nОценка качества рекомендаций:\")\n",
    "print(results_df.set_index('Type').T)"
   ]
  },
  {
   "cell_type": "code",
   "execution_count": 14,
   "id": "b2f0d260",
   "metadata": {},
   "outputs": [
    {
     "data": {
      "image/png": "[encoded data removed]",
      "text/plain": [
       "<Figure size 1200x800 with 4 Axes>"
      ]
     },
     "metadata": {},
     "output_type": "display_data"
    }
   ],
   "source": [
    "import matplotlib.pyplot as plt\n",
    "import seaborn as sns\n",
    "\n",
    "plt.figure(figsize=(12, 8))\n",
    "metrics = ['Recall@10', 'Precision@10', 'Coverage', 'Novelty']\n",
    "\n",
    "for i, metric in enumerate(metrics, 1):\n",
    "    plt.subplot(2, 2, i)\n",
    "    sns.barplot(x='Type', y=metric, data=results_df)\n",
    "    plt.title(metric)\n",
    "    plt.ylim(0, 1 if metric != 'Novelty' else 0.1)\n",
    "    \n",
    "plt.tight_layout()\n",
    "plt.savefig('recommendation_metrics_comparison.png')\n",
    "plt.show()"
   ]
  },
  {
   "cell_type": "markdown",
   "id": "f1c8d38c-32b0-46a4-96f0-cd01dac708bc",
   "metadata": {},
   "source": [
    "# === Выводы, метрики ==="
   ]
  },
  {
   "cell_type": "markdown",
   "id": "f7d7d5d8-7d1e-4fdf-a6cd-83e5ce92c684",
   "metadata": {},
   "source": [
    " Основные выводы при работе над расчётом рекомендаций, рассчитанные метрики."
   ]
  },
  {
   "cell_type": "markdown",
   "id": "cb913e37",
   "metadata": {},
   "source": [
    "## Проблемы данных:\n",
    "\n",
    "Высокий уровень \"холодных\" пользователей (только 8273 из 783525 в персонализированных методах)\n",
    "Возможно, смещение в тестовых данных\n",
    "\n",
    "\n",
    "## Эффективность методов:\n",
    "\n",
    "\n",
    "Топ популярных неожиданно показал лучший Recall\n",
    "Персонализированные методы обеспечивают лучшее покрытие каталога\n",
    "Процесс переранжирования не дал улучшений\n",
    "\n",
    "\n",
    "## Пути улучшения:\n",
    "\n",
    "\n",
    "Реализовать fallback-механизмы для холодных пользователей\n",
    "Добавить контентные признаки в ранжирующую модель\n",
    "Экспериментировать с другими алгоритмами (Word2Vec, Graph Neural Networks)\n",
    "Внедрить A/B тестирование для валидации улучшений"
   ]
  }
 ],
 "metadata": {
  "kernelspec": {
   "display_name": ".mle-sprint3-venv",
   "language": "python",
   "name": "python3"
  },
  "language_info": {
   "codemirror_mode": {
    "name": "ipython",
    "version": 3
   },
   "file_extension": ".py",
   "mimetype": "text/x-python",
   "name": "python",
   "nbconvert_exporter": "python",
   "pygments_lexer": "ipython3",
   "version": "3.10.12"
  }
 },
 "nbformat": 4,
 "nbformat_minor": 5
}
